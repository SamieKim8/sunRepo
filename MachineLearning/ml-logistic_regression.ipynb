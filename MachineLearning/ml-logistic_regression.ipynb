{
 "cells": [
  {
   "attachments": {},
   "cell_type": "markdown",
   "id": "ec2ae104",
   "metadata": {},
   "source": [
    "## Title: Logistic Classifiers (Logistic Regression)\n",
    "#### Name: Sunmi Kim\n",
    "#### Date: 05/25/2023"
   ]
  },
  {
   "cell_type": "code",
   "execution_count": 2,
   "id": "f28e9f54",
   "metadata": {
    "execution": {
     "iopub.execute_input": "2023-05-26T04:09:37.413115Z",
     "iopub.status.busy": "2023-05-26T04:09:37.412769Z",
     "iopub.status.idle": "2023-05-26T04:09:37.420886Z",
     "shell.execute_reply": "2023-05-26T04:09:37.419648Z"
    },
    "papermill": {
     "duration": 0.017657,
     "end_time": "2023-05-26T04:09:37.422684",
     "exception": false,
     "start_time": "2023-05-26T04:09:37.405027",
     "status": "completed"
    },
    "tags": []
   },
   "outputs": [],
   "source": [
    "import numpy as np # linear algebra\n",
    "import pandas as pd # data processing, CSV file I/O (e.g. pd.read_csv)\n",
    "import matplotlib\n",
    "from matplotlib import pyplot\n",
    "\n",
    "# Some functions to plot our points and draw the lines\n",
    "def plot_points(features, labels):\n",
    "    X = np.array(features)\n",
    "    y = np.array(labels)\n",
    "    spam = X[np.argwhere(y==1)]\n",
    "    ham = X[np.argwhere(y==0)]\n",
    "    pyplot.scatter([s[0][0] for s in spam],\n",
    "                   [s[0][1] for s in spam],\n",
    "                   s = 100,\n",
    "                   color = 'cyan',\n",
    "                   edgecolor = 'k',\n",
    "                   marker = '^')\n",
    "    pyplot.scatter([s[0][0] for s in ham],\n",
    "                   [s[0][1] for s in ham],\n",
    "                   s = 100,\n",
    "                   color = 'red',\n",
    "                   edgecolor = 'k',\n",
    "                   marker = 's')\n",
    "    pyplot.xlabel('aack')\n",
    "    pyplot.ylabel('beep')\n",
    "    pyplot.legend(['happy','sad'])\n",
    "    \n",
    "def draw_line(a,b,c, color='black', linewidth=2.0, linestyle='solid', starting=0, ending=3):\n",
    "    # Plotting the line ax + by + c = 0\n",
    "    x = np.linspace(starting, ending, 1000)\n",
    "    pyplot.plot(x, -c/b - a*x/b, linestyle=linestyle, color=color, linewidth=linewidth)"
   ]
  },
  {
   "attachments": {},
   "cell_type": "markdown",
   "id": "7b2bc5fa",
   "metadata": {
    "papermill": {
     "duration": 0.005808,
     "end_time": "2023-05-26T04:09:37.434876",
     "exception": false,
     "start_time": "2023-05-26T04:09:37.429068",
     "status": "completed"
    },
    "tags": []
   },
   "source": [
    "## Step 1: Collect and Explore Data\n",
    "\n",
    "- Data linked and located now at /kaggle/input/imdb-chapter-6/IMDB_Dataset.csv"
   ]
  },
  {
   "cell_type": "code",
   "execution_count": 3,
   "id": "b1fcf837",
   "metadata": {
    "execution": {
     "iopub.execute_input": "2023-05-26T04:09:37.448659Z",
     "iopub.status.busy": "2023-05-26T04:09:37.448208Z",
     "iopub.status.idle": "2023-05-26T04:09:51.491227Z",
     "shell.execute_reply": "2023-05-26T04:09:51.490515Z"
    },
    "papermill": {
     "duration": 14.052534,
     "end_time": "2023-05-26T04:09:51.493388",
     "exception": false,
     "start_time": "2023-05-26T04:09:37.440854",
     "status": "completed"
    },
    "tags": []
   },
   "outputs": [],
   "source": [
    "import re\n",
    "import os\n",
    "import nltk\n",
    "import pandas as pd\n",
    "from scipy import stats\n",
    "import matplotlib.pyplot as plt\n",
    "import seaborn as sns\n",
    "import spacy\n",
    "import matplotlib.pyplot as plt\n",
    "import numpy as np\n",
    "from sklearn.linear_model import LogisticRegression\n",
    "from sklearn.feature_extraction.text import CountVectorizer \n",
    "from sklearn.model_selection import train_test_split\n",
    "from sklearn.metrics import confusion_matrix, classification_report, accuracy_score"
   ]
  },
  {
   "attachments": {},
   "cell_type": "markdown",
   "id": "a4116069",
   "metadata": {
    "papermill": {
     "duration": 0.006089,
     "end_time": "2023-05-26T04:09:51.506141",
     "exception": false,
     "start_time": "2023-05-26T04:09:51.500052",
     "status": "completed"
    },
    "tags": []
   },
   "source": [
    "## Step 2: Data Preparation and Exploration\n",
    "\n",
    "- Data preparation involves cleaning, filtering, inputing, scaling, encoding, and splitting the data.\n",
    "- Data exploration involves understanding patterns, identifying problems and resolving, visualizing, summarizing, testing and modeling"
   ]
  },
  {
   "cell_type": "code",
   "execution_count": 4,
   "id": "5e5dccb3",
   "metadata": {
    "execution": {
     "iopub.execute_input": "2023-05-26T04:09:51.521211Z",
     "iopub.status.busy": "2023-05-26T04:09:51.519979Z",
     "iopub.status.idle": "2023-05-26T04:09:51.528560Z",
     "shell.execute_reply": "2023-05-26T04:09:51.527725Z"
    },
    "papermill": {
     "duration": 0.018385,
     "end_time": "2023-05-26T04:09:51.530916",
     "exception": false,
     "start_time": "2023-05-26T04:09:51.512531",
     "status": "completed"
    },
    "tags": []
   },
   "outputs": [],
   "source": [
    "# function that cleans the text removing stop words: a, an, the, as, is, to, in, on, or, it, and\n",
    "def clean_text(text):\n",
    "    text = re.sub(r'<.*?>', '', text) # remove html tags\n",
    "    text = re.sub(r'[^\\w\\s]', ' ', text) # replace comma, ending periods to a space\n",
    "    text = re.sub(r'\\bthe\\b', '', text) # remove 'the'\n",
    "    text = re.sub(r'\\b(?:an|An|a|A)\\b', '', text) # remove 'an', 'An', 'a', 'A'\n",
    "    text = re.sub(r'\\b(?:as|is|to|in)\\b', '', text) # remove 'as', 'is', 'to', 'in'\n",
    "    text = re.sub(r'\\b(?:on|or|it|and)\\b', '', text) # remove 'on', 'or', 'it', 'and'\n",
    "    text = text.lower() # make strings lower case\n",
    "    text = re.sub('  ', ' ', text) # remove extra space 1\n",
    "    text = re.sub('  ', ' ', text) # remove extra space 2\n",
    "    return text \n",
    "\n",
    "# Cohen's D\n",
    "def cohen_d(group1, group2):\n",
    "    '''the function calculates the effect size of the statistical difference \n",
    "    in the word count between positive and negative reviews'''\n",
    "    diff = group1.mean() - group2.mean()\n",
    "    n1, n2 = len(group1), len(group2)\n",
    "    var1 = group1.var()\n",
    "    var2 = group2.var()\n",
    "    pooled_var = (n1*var1 + n2*var2) / (n1+n2)\n",
    "    d = diff / np.sqrt(pooled_var)\n",
    "    return d"
   ]
  },
  {
   "cell_type": "code",
   "execution_count": 5,
   "id": "fede58de",
   "metadata": {
    "execution": {
     "iopub.execute_input": "2023-05-26T04:09:51.545066Z",
     "iopub.status.busy": "2023-05-26T04:09:51.544726Z",
     "iopub.status.idle": "2023-05-26T04:09:51.628814Z",
     "shell.execute_reply": "2023-05-26T04:09:51.627579Z"
    },
    "papermill": {
     "duration": 0.093022,
     "end_time": "2023-05-26T04:09:51.630591",
     "exception": false,
     "start_time": "2023-05-26T04:09:51.537569",
     "status": "completed"
    },
    "tags": []
   },
   "outputs": [
    {
     "name": "stdout",
     "output_type": "stream",
     "text": [
      "[nltk_data] Downloading package vader_lexicon to\n",
      "[nltk_data]     /usr/share/nltk_data...\n",
      "[nltk_data]   Package vader_lexicon is already up-to-date!\n"
     ]
    },
    {
     "name": "stderr",
     "output_type": "stream",
     "text": [
      "/opt/conda/lib/python3.10/site-packages/nltk/twitter/__init__.py:20: UserWarning: The twython library has not been installed. Some functionality from the twitter package will not be available.\n",
      "  warnings.warn(\"The twython library has not been installed. \"\n"
     ]
    }
   ],
   "source": [
    "# sentiment analysis based on nltk library\n",
    "import nltk\n",
    "nltk.download('vader_lexicon')\n",
    "from nltk.sentiment.vader import SentimentIntensityAnalyzer\n",
    "\n",
    "# initialize the sentiment analyzer\n",
    "sia = SentimentIntensityAnalyzer()\n",
    "\n",
    "def review_nltk(df):\n",
    "    score = sia.polarity_scores(df)\n",
    "    # extract the emotion score, which ranges from -1 to 1\n",
    "    emotion_score = score['compound']\n",
    "    # classify the sentiment as positive or neutral\n",
    "    if emotion_score > 0:\n",
    "        sentiment = 'Positive'        \n",
    "    else:\n",
    "        sentiment = 'Negative'\n",
    "    return sentiment "
   ]
  },
  {
   "cell_type": "code",
   "execution_count": 6,
   "id": "afa02f28",
   "metadata": {
    "execution": {
     "iopub.execute_input": "2023-05-26T04:09:51.645514Z",
     "iopub.status.busy": "2023-05-26T04:09:51.644638Z",
     "iopub.status.idle": "2023-05-26T04:09:51.656765Z",
     "shell.execute_reply": "2023-05-26T04:09:51.655848Z"
    },
    "papermill": {
     "duration": 0.021272,
     "end_time": "2023-05-26T04:09:51.658497",
     "exception": false,
     "start_time": "2023-05-26T04:09:51.637225",
     "status": "completed"
    },
    "tags": []
   },
   "outputs": [
    {
     "name": "stdout",
     "output_type": "stream",
     "text": [
      "[nltk_data] Downloading package vader_lexicon to\n",
      "[nltk_data]     /usr/share/nltk_data...\n",
      "[nltk_data]   Package vader_lexicon is already up-to-date!\n"
     ]
    }
   ],
   "source": [
    "# review based on nltk library\n",
    "import nltk\n",
    "nltk.download('vader_lexicon')\n",
    "from nltk.sentiment.vader import SentimentIntensityAnalyzer\n",
    "\n",
    "# initialize the sentiment analyzer\n",
    "sia = SentimentIntensityAnalyzer()\n",
    "\n",
    "def score_nltk(df):\n",
    "    # use the polarity_scores() method to get a sentiment score\n",
    "    score = sia.polarity_scores(df)\n",
    "    # extract the emotion score, which ranges from -1 to 1\n",
    "    emotion_score = score['compound']\n",
    "    return emotion_score"
   ]
  },
  {
   "cell_type": "code",
   "execution_count": 7,
   "id": "d3767cf1",
   "metadata": {
    "execution": {
     "iopub.execute_input": "2023-05-26T04:09:51.672718Z",
     "iopub.status.busy": "2023-05-26T04:09:51.672399Z",
     "iopub.status.idle": "2023-05-26T04:14:03.058237Z",
     "shell.execute_reply": "2023-05-26T04:14:03.057207Z"
    },
    "papermill": {
     "duration": 251.401792,
     "end_time": "2023-05-26T04:14:03.066891",
     "exception": false,
     "start_time": "2023-05-26T04:09:51.665099",
     "status": "completed"
    },
    "tags": []
   },
   "outputs": [
    {
     "data": {
      "text/html": [
       "<div>\n",
       "<style scoped>\n",
       "    .dataframe tbody tr th:only-of-type {\n",
       "        vertical-align: middle;\n",
       "    }\n",
       "\n",
       "    .dataframe tbody tr th {\n",
       "        vertical-align: top;\n",
       "    }\n",
       "\n",
       "    .dataframe thead th {\n",
       "        text-align: right;\n",
       "    }\n",
       "</style>\n",
       "<table border=\"1\" class=\"dataframe\">\n",
       "  <thead>\n",
       "    <tr style=\"text-align: right;\">\n",
       "      <th></th>\n",
       "      <th>review</th>\n",
       "      <th>sentiment</th>\n",
       "      <th>review_cleaned</th>\n",
       "      <th>word_count</th>\n",
       "      <th>sentiment_nltk</th>\n",
       "      <th>sentiment_score</th>\n",
       "    </tr>\n",
       "  </thead>\n",
       "  <tbody>\n",
       "    <tr>\n",
       "      <th>0</th>\n",
       "      <td>One of the other reviewers has mentioned that ...</td>\n",
       "      <td>positive</td>\n",
       "      <td>one of other reviewers has mentioned that afte...</td>\n",
       "      <td>259</td>\n",
       "      <td>Negative</td>\n",
       "      <td>-0.9948</td>\n",
       "    </tr>\n",
       "    <tr>\n",
       "      <th>1</th>\n",
       "      <td>A wonderful little production. &lt;br /&gt;&lt;br /&gt;The...</td>\n",
       "      <td>positive</td>\n",
       "      <td>wonderful little production the filming techn...</td>\n",
       "      <td>130</td>\n",
       "      <td>Positive</td>\n",
       "      <td>0.9579</td>\n",
       "    </tr>\n",
       "    <tr>\n",
       "      <th>2</th>\n",
       "      <td>I thought this was a wonderful way to spend ti...</td>\n",
       "      <td>positive</td>\n",
       "      <td>i thought this was wonderful way spend time to...</td>\n",
       "      <td>137</td>\n",
       "      <td>Positive</td>\n",
       "      <td>0.9713</td>\n",
       "    </tr>\n",
       "    <tr>\n",
       "      <th>3</th>\n",
       "      <td>Basically there's a family where a little boy ...</td>\n",
       "      <td>negative</td>\n",
       "      <td>basically there s family where little boy jake...</td>\n",
       "      <td>110</td>\n",
       "      <td>Negative</td>\n",
       "      <td>-0.8858</td>\n",
       "    </tr>\n",
       "    <tr>\n",
       "      <th>4</th>\n",
       "      <td>Petter Mattei's \"Love in the Time of Money\" is...</td>\n",
       "      <td>positive</td>\n",
       "      <td>petter mattei s love time of money visually st...</td>\n",
       "      <td>177</td>\n",
       "      <td>Positive</td>\n",
       "      <td>0.9766</td>\n",
       "    </tr>\n",
       "  </tbody>\n",
       "</table>\n",
       "</div>"
      ],
      "text/plain": [
       "                                              review sentiment  \\\n",
       "0  One of the other reviewers has mentioned that ...  positive   \n",
       "1  A wonderful little production. <br /><br />The...  positive   \n",
       "2  I thought this was a wonderful way to spend ti...  positive   \n",
       "3  Basically there's a family where a little boy ...  negative   \n",
       "4  Petter Mattei's \"Love in the Time of Money\" is...  positive   \n",
       "\n",
       "                                      review_cleaned  word_count  \\\n",
       "0  one of other reviewers has mentioned that afte...         259   \n",
       "1   wonderful little production the filming techn...         130   \n",
       "2  i thought this was wonderful way spend time to...         137   \n",
       "3  basically there s family where little boy jake...         110   \n",
       "4  petter mattei s love time of money visually st...         177   \n",
       "\n",
       "  sentiment_nltk  sentiment_score  \n",
       "0       Negative          -0.9948  \n",
       "1       Positive           0.9579  \n",
       "2       Positive           0.9713  \n",
       "3       Negative          -0.8858  \n",
       "4       Positive           0.9766  "
      ]
     },
     "execution_count": 7,
     "metadata": {},
     "output_type": "execute_result"
    }
   ],
   "source": [
    "path = '/kaggle/input/imdb-chapter-6/IMDB_Dataset.csv'\n",
    "df = pd.read_csv(path)\n",
    "# apply the cleaning function to the review column\n",
    "df['review_cleaned'] = df['review'].apply(lambda x: clean_text(x))\n",
    "# count the words in the reviews and add a column to the dataframe\n",
    "df['word_count'] = df['review_cleaned'].apply(lambda x: len(str(x).split(\" \")))\n",
    "# word_count is now done based on 'review_cleaned' not 'review'\n",
    "# sentiment analysis review based on NLTK library\n",
    "df['sentiment_nltk'] = df['review_cleaned'].apply(lambda x: review_nltk(x))\n",
    "# sentiment score based on cleaned reviews using NLTK library\n",
    "df['sentiment_score'] = df['review_cleaned'].apply(lambda x: score_nltk(x))\n",
    "df.head(5)"
   ]
  },
  {
   "cell_type": "code",
   "execution_count": 8,
   "id": "81864e08",
   "metadata": {
    "execution": {
     "iopub.execute_input": "2023-05-26T04:14:03.082860Z",
     "iopub.status.busy": "2023-05-26T04:14:03.082518Z",
     "iopub.status.idle": "2023-05-26T04:14:03.092695Z",
     "shell.execute_reply": "2023-05-26T04:14:03.092026Z"
    },
    "papermill": {
     "duration": 0.020231,
     "end_time": "2023-05-26T04:14:03.094218",
     "exception": false,
     "start_time": "2023-05-26T04:14:03.073987",
     "status": "completed"
    },
    "tags": []
   },
   "outputs": [
    {
     "data": {
      "text/plain": [
       "<bound method DataFrame.info of                                                   review sentiment  \\\n",
       "0      One of the other reviewers has mentioned that ...  positive   \n",
       "1      A wonderful little production. <br /><br />The...  positive   \n",
       "2      I thought this was a wonderful way to spend ti...  positive   \n",
       "3      Basically there's a family where a little boy ...  negative   \n",
       "4      Petter Mattei's \"Love in the Time of Money\" is...  positive   \n",
       "...                                                  ...       ...   \n",
       "49995  I thought this movie did a down right good job...  positive   \n",
       "49996  Bad plot, bad dialogue, bad acting, idiotic di...  negative   \n",
       "49997  I am a Catholic taught in parochial elementary...  negative   \n",
       "49998  I'm going to have to disagree with the previou...  negative   \n",
       "49999  No one expects the Star Trek movies to be high...  negative   \n",
       "\n",
       "                                          review_cleaned  word_count  \\\n",
       "0      one of other reviewers has mentioned that afte...         259   \n",
       "1       wonderful little production the filming techn...         130   \n",
       "2      i thought this was wonderful way spend time to...         137   \n",
       "3      basically there s family where little boy jake...         110   \n",
       "4      petter mattei s love time of money visually st...         177   \n",
       "...                                                  ...         ...   \n",
       "49995  i thought this movie did down right good job i...         152   \n",
       "49996  bad plot bad dialogue bad acting idiotic direc...          97   \n",
       "49997  i am catholic taught parochial elementary scho...         182   \n",
       "49998  i m going have disagree with previous comment ...         175   \n",
       "49999  no one expects star trek movies be high art bu...         100   \n",
       "\n",
       "      sentiment_nltk  sentiment_score  \n",
       "0           Negative          -0.9948  \n",
       "1           Positive           0.9579  \n",
       "2           Positive           0.9713  \n",
       "3           Negative          -0.8858  \n",
       "4           Positive           0.9766  \n",
       "...              ...              ...  \n",
       "49995       Positive           0.9927  \n",
       "49996       Negative          -0.5912  \n",
       "49997       Negative          -0.9868  \n",
       "49998       Negative          -0.8657  \n",
       "49999       Positive           0.8910  \n",
       "\n",
       "[50000 rows x 6 columns]>"
      ]
     },
     "execution_count": 8,
     "metadata": {},
     "output_type": "execute_result"
    }
   ],
   "source": [
    "df.info # 50000 rows 6 columns (review, sentiment, review_cleaned, word_count, sentiment_nltk, sentiment_score)"
   ]
  },
  {
   "cell_type": "code",
   "execution_count": 9,
   "id": "0978b4a7",
   "metadata": {
    "execution": {
     "iopub.execute_input": "2023-05-26T04:14:03.112188Z",
     "iopub.status.busy": "2023-05-26T04:14:03.109610Z",
     "iopub.status.idle": "2023-05-26T04:14:03.134416Z",
     "shell.execute_reply": "2023-05-26T04:14:03.132934Z"
    },
    "papermill": {
     "duration": 0.035184,
     "end_time": "2023-05-26T04:14:03.136510",
     "exception": false,
     "start_time": "2023-05-26T04:14:03.101326",
     "status": "completed"
    },
    "tags": []
   },
   "outputs": [
    {
     "data": {
      "text/plain": [
       "sentiment_nltk\n",
       "Negative    1769\n",
       "Positive    2007\n",
       "Name: word_count, dtype: int64"
      ]
     },
     "execution_count": 9,
     "metadata": {},
     "output_type": "execute_result"
    }
   ],
   "source": [
    "# check to see if there is a difference in the mean word count between positive and negative reviews\n",
    "#df.groupby('sentiment_nltk')['word_count'].mean() # 199 (Negative) 189 (Positive) 143 (Neutral)\n",
    "df.groupby('sentiment_nltk')['word_count'].max() # 1769 (Negative) 2007 (Positive) 848 (Neutral)\n",
    "#df.groupby('sentiment_nltk')['word_count'].min() # 5 (Negative) 10 (Positive) 9 (Neutral)"
   ]
  },
  {
   "cell_type": "code",
   "execution_count": 10,
   "id": "b4a84560",
   "metadata": {
    "execution": {
     "iopub.execute_input": "2023-05-26T04:14:03.153446Z",
     "iopub.status.busy": "2023-05-26T04:14:03.153042Z",
     "iopub.status.idle": "2023-05-26T04:14:03.163246Z",
     "shell.execute_reply": "2023-05-26T04:14:03.162240Z"
    },
    "papermill": {
     "duration": 0.020815,
     "end_time": "2023-05-26T04:14:03.165307",
     "exception": false,
     "start_time": "2023-05-26T04:14:03.144492",
     "status": "completed"
    },
    "tags": []
   },
   "outputs": [
    {
     "name": "stdout",
     "output_type": "stream",
     "text": [
      "['Negative' 'Positive']\n"
     ]
    }
   ],
   "source": [
    "unique_sentiments = df['sentiment_nltk'].unique()\n",
    "print(unique_sentiments) # positive negative neutral"
   ]
  },
  {
   "cell_type": "code",
   "execution_count": 11,
   "id": "b7afa452",
   "metadata": {
    "execution": {
     "iopub.execute_input": "2023-05-26T04:14:03.181516Z",
     "iopub.status.busy": "2023-05-26T04:14:03.181080Z",
     "iopub.status.idle": "2023-05-26T04:14:03.202309Z",
     "shell.execute_reply": "2023-05-26T04:14:03.200624Z"
    },
    "papermill": {
     "duration": 0.031944,
     "end_time": "2023-05-26T04:14:03.204501",
     "exception": false,
     "start_time": "2023-05-26T04:14:03.172557",
     "status": "completed"
    },
    "tags": []
   },
   "outputs": [
    {
     "name": "stdout",
     "output_type": "stream",
     "text": [
      "                                                  review sentiment  \\\n",
      "31481  Match 1: Tag Team Table Match Bubba Ray and Sp...  positive   \n",
      "40521  There's a sign on The Lost Highway that says:<...  positive   \n",
      "\n",
      "                                          review_cleaned  word_count  \\\n",
      "31481  match 1 tag team table match bubba ray spike d...        2007   \n",
      "40521  there s sign the lost highway that says major ...        1831   \n",
      "\n",
      "      sentiment_nltk  sentiment_score  \n",
      "31481       Positive           0.9989  \n",
      "40521       Positive           0.9964  \n"
     ]
    }
   ],
   "source": [
    "# If word_count > 1769 positive review rate 100% \n",
    "length_over_1769_p = df[(df['word_count'] > 1769) & (df['sentiment'] == 'positive')]\n",
    "print(length_over_1769_p) # 2 rows\n",
    "\n",
    "#length_over_1769_n = df[(df['word_count'] > 1769) & (df['sentiment'] == 'negative')]\n",
    "#print(length_over_1769_n) # 0 rows"
   ]
  },
  {
   "cell_type": "code",
   "execution_count": 12,
   "id": "eff34db4",
   "metadata": {
    "execution": {
     "iopub.execute_input": "2023-05-26T04:14:03.220842Z",
     "iopub.status.busy": "2023-05-26T04:14:03.220222Z",
     "iopub.status.idle": "2023-05-26T04:14:03.226146Z",
     "shell.execute_reply": "2023-05-26T04:14:03.224717Z"
    },
    "papermill": {
     "duration": 0.016412,
     "end_time": "2023-05-26T04:14:03.228230",
     "exception": false,
     "start_time": "2023-05-26T04:14:03.211818",
     "status": "completed"
    },
    "tags": []
   },
   "outputs": [
    {
     "data": {
      "text/plain": [
       "(50000, 6)"
      ]
     },
     "execution_count": 12,
     "metadata": {},
     "output_type": "execute_result"
    }
   ],
   "source": [
    "df.shape # (50000 rows, 6 columns)"
   ]
  },
  {
   "cell_type": "code",
   "execution_count": 13,
   "id": "ed00cda6",
   "metadata": {
    "execution": {
     "iopub.execute_input": "2023-05-26T04:14:03.244773Z",
     "iopub.status.busy": "2023-05-26T04:14:03.244179Z",
     "iopub.status.idle": "2023-05-26T04:14:03.264407Z",
     "shell.execute_reply": "2023-05-26T04:14:03.262628Z"
    },
    "papermill": {
     "duration": 0.031428,
     "end_time": "2023-05-26T04:14:03.266989",
     "exception": false,
     "start_time": "2023-05-26T04:14:03.235561",
     "status": "completed"
    },
    "tags": []
   },
   "outputs": [
    {
     "name": "stdout",
     "output_type": "stream",
     "text": [
      "25000\n",
      "25000\n"
     ]
    }
   ],
   "source": [
    "# positive review rate = 50% using sentiment column\n",
    "positive_review = len(df[df['sentiment'] == 'positive'])\n",
    "print(positive_review) # 25000 rows\n",
    "\n",
    "negative_review = len(df[df['sentiment'] == 'negative'])\n",
    "print(negative_review) # 25000 rows"
   ]
  },
  {
   "cell_type": "code",
   "execution_count": 14,
   "id": "ae2e816e",
   "metadata": {
    "execution": {
     "iopub.execute_input": "2023-05-26T04:14:03.283467Z",
     "iopub.status.busy": "2023-05-26T04:14:03.283073Z",
     "iopub.status.idle": "2023-05-26T04:14:03.304332Z",
     "shell.execute_reply": "2023-05-26T04:14:03.303244Z"
    },
    "papermill": {
     "duration": 0.032353,
     "end_time": "2023-05-26T04:14:03.306944",
     "exception": false,
     "start_time": "2023-05-26T04:14:03.274591",
     "status": "completed"
    },
    "tags": []
   },
   "outputs": [
    {
     "name": "stdout",
     "output_type": "stream",
     "text": [
      "Positive rows: 33225 (66.5%)\n",
      "Negative rows: 16775 (33.5%)\n"
     ]
    }
   ],
   "source": [
    "# positive review rate using sentiment_nltk column\n",
    "positive_review = len(df[df['sentiment_nltk'] == 'Positive'])\n",
    "positive_rate = round((positive_review * 100) / 50000, 1)\n",
    "print(f\"Positive rows: {positive_review} ({positive_rate}%)\") # 33225 rows\n",
    "\n",
    "# negative review rate using sentiment_nltk column\n",
    "negative_review = len(df[df['sentiment_nltk'] == 'Negative'])\n",
    "negative_rate = round((negative_review * 100) / 50000, 1)\n",
    "print(f\"Negative rows: {negative_review} ({negative_rate}%)\") # 16775 rows"
   ]
  },
  {
   "cell_type": "code",
   "execution_count": 15,
   "id": "9dcfef0b",
   "metadata": {
    "execution": {
     "iopub.execute_input": "2023-05-26T04:14:03.323485Z",
     "iopub.status.busy": "2023-05-26T04:14:03.323096Z",
     "iopub.status.idle": "2023-05-26T04:14:03.346649Z",
     "shell.execute_reply": "2023-05-26T04:14:03.345441Z"
    },
    "papermill": {
     "duration": 0.034469,
     "end_time": "2023-05-26T04:14:03.349222",
     "exception": false,
     "start_time": "2023-05-26T04:14:03.314753",
     "status": "completed"
    },
    "tags": []
   },
   "outputs": [
    {
     "data": {
      "text/plain": [
       "Ttest_indResult(statistic=-6.850336105729239, pvalue=7.500670220804805e-12)"
      ]
     },
     "execution_count": 15,
     "metadata": {},
     "output_type": "execute_result"
    }
   ],
   "source": [
    "# do a t-test to see if there is a statistical difference in the word count between positive and negative reviews\n",
    "stats.ttest_ind(df[df['sentiment_nltk']=='Positive']['word_count'], df[df['sentiment_nltk']=='Negative']['word_count'], equal_var=False)\n",
    "# a p-value < 0.05 indicates that there is a statistical difference in the word count between positive and negative reviews\n",
    "# using sentiment column: Ttest_indResult(statistic=1.6414947183288393, pvalue=0.10070108220393838)\n",
    "# using sentment_nltk:   Ttest_indResult(statistic=-6.850336105729239, pvalue=7.500670220804805e-12)"
   ]
  },
  {
   "cell_type": "code",
   "execution_count": 16,
   "id": "818a5eb8",
   "metadata": {
    "execution": {
     "iopub.execute_input": "2023-05-26T04:14:03.366228Z",
     "iopub.status.busy": "2023-05-26T04:14:03.365875Z",
     "iopub.status.idle": "2023-05-26T04:14:03.391678Z",
     "shell.execute_reply": "2023-05-26T04:14:03.390681Z"
    },
    "papermill": {
     "duration": 0.037166,
     "end_time": "2023-05-26T04:14:03.394085",
     "exception": false,
     "start_time": "2023-05-26T04:14:03.356919",
     "status": "completed"
    },
    "tags": []
   },
   "outputs": [
    {
     "data": {
      "text/plain": [
       "-0.06608806059609376"
      ]
     },
     "execution_count": 16,
     "metadata": {},
     "output_type": "execute_result"
    }
   ],
   "source": [
    "# test the effect size of the difference in the word count between positive and negative reviews. \n",
    "cohen_d(df[df['sentiment_nltk']=='Positive']['word_count'], df[df['sentiment_nltk']=='Negative']['word_count'])\n",
    "# a cohen's d of 0.15 indicates a small effect size\n",
    "# using sentiment column: 0.014681975099560618\n",
    "# using sentiment_nltk: -0.06608806059609376"
   ]
  },
  {
   "cell_type": "code",
   "execution_count": 17,
   "id": "084b7f7d",
   "metadata": {
    "execution": {
     "iopub.execute_input": "2023-05-26T04:14:03.411678Z",
     "iopub.status.busy": "2023-05-26T04:14:03.411327Z",
     "iopub.status.idle": "2023-05-26T04:14:03.613114Z",
     "shell.execute_reply": "2023-05-26T04:14:03.611978Z"
    },
    "papermill": {
     "duration": 0.213307,
     "end_time": "2023-05-26T04:14:03.615328",
     "exception": false,
     "start_time": "2023-05-26T04:14:03.402021",
     "status": "completed"
    },
    "tags": []
   },
   "outputs": [
    {
     "data": {
      "image/png": "[encoded data removed]",
      "text/plain": [
       "<Figure size 640x480 with 1 Axes>"
      ]
     },
     "metadata": {},
     "output_type": "display_data"
    }
   ],
   "source": [
    "# do a boxplot to see if there is a statistical difference in the word count between positive and negative reviews\n",
    "sns.boxplot(x='sentiment_nltk', y='word_count', data=df)\n",
    "plt.show()"
   ]
  },
  {
   "cell_type": "code",
   "execution_count": 18,
   "id": "ba2603b0",
   "metadata": {
    "execution": {
     "iopub.execute_input": "2023-05-26T04:14:03.634145Z",
     "iopub.status.busy": "2023-05-26T04:14:03.633794Z",
     "iopub.status.idle": "2023-05-26T04:14:03.649742Z",
     "shell.execute_reply": "2023-05-26T04:14:03.648600Z"
    },
    "papermill": {
     "duration": 0.028516,
     "end_time": "2023-05-26T04:14:03.652361",
     "exception": false,
     "start_time": "2023-05-26T04:14:03.623845",
     "status": "completed"
    },
    "tags": []
   },
   "outputs": [],
   "source": [
    "# use sklearn to split the data into training and test sets\n",
    "X_train, X_test, y_train, y_test = train_test_split(df['review_cleaned'], df['sentiment_nltk'], test_size=0.2, random_state=42)"
   ]
  },
  {
   "cell_type": "code",
   "execution_count": 19,
   "id": "22e38272",
   "metadata": {
    "execution": {
     "iopub.execute_input": "2023-05-26T04:14:03.670319Z",
     "iopub.status.busy": "2023-05-26T04:14:03.669957Z",
     "iopub.status.idle": "2023-05-26T04:14:36.680689Z",
     "shell.execute_reply": "2023-05-26T04:14:36.679776Z"
    },
    "papermill": {
     "duration": 33.022474,
     "end_time": "2023-05-26T04:14:36.682921",
     "exception": false,
     "start_time": "2023-05-26T04:14:03.660447",
     "status": "completed"
    },
    "tags": []
   },
   "outputs": [],
   "source": [
    "# use sklearn to transform the text into a vector\n",
    "countvectorizer = CountVectorizer(stop_words='english', ngram_range=(1,2), max_features=5000)\n",
    "# fit and transform the training data\n",
    "countvectorizer.fit(X_train)\n",
    "X_train = countvectorizer.transform(X_train)\n",
    "# transform the test data\n",
    "X_test = countvectorizer.transform(X_test)"
   ]
  },
  {
   "cell_type": "code",
   "execution_count": 20,
   "id": "573fd1d6",
   "metadata": {
    "execution": {
     "iopub.execute_input": "2023-05-26T04:14:36.700761Z",
     "iopub.status.busy": "2023-05-26T04:14:36.699924Z",
     "iopub.status.idle": "2023-05-26T04:14:42.902283Z",
     "shell.execute_reply": "2023-05-26T04:14:42.901352Z"
    },
    "papermill": {
     "duration": 6.213442,
     "end_time": "2023-05-26T04:14:42.904590",
     "exception": false,
     "start_time": "2023-05-26T04:14:36.691148",
     "status": "completed"
    },
    "tags": []
   },
   "outputs": [],
   "source": [
    "# create a logistic regression model\n",
    "logreg = LogisticRegression(solver='liblinear') # have to use liblinear solver because of the large dataset\n",
    "logreg.fit(X_train, y_train)\n",
    "y_pred = logreg.predict(X_test)"
   ]
  },
  {
   "cell_type": "code",
   "execution_count": 21,
   "id": "7d696f69",
   "metadata": {
    "execution": {
     "iopub.execute_input": "2023-05-26T04:14:42.924048Z",
     "iopub.status.busy": "2023-05-26T04:14:42.922302Z",
     "iopub.status.idle": "2023-05-26T04:14:43.256222Z",
     "shell.execute_reply": "2023-05-26T04:14:43.254536Z"
    },
    "papermill": {
     "duration": 0.34569,
     "end_time": "2023-05-26T04:14:43.258660",
     "exception": false,
     "start_time": "2023-05-26T04:14:42.912970",
     "status": "completed"
    },
    "tags": []
   },
   "outputs": [
    {
     "name": "stdout",
     "output_type": "stream",
     "text": [
      "[[2563  750]\n",
      " [ 669 6018]]\n",
      "              precision    recall  f1-score   support\n",
      "\n",
      "    Negative       0.79      0.77      0.78      3313\n",
      "    Positive       0.89      0.90      0.89      6687\n",
      "\n",
      "    accuracy                           0.86     10000\n",
      "   macro avg       0.84      0.84      0.84     10000\n",
      "weighted avg       0.86      0.86      0.86     10000\n",
      "\n",
      "0.8581\n"
     ]
    }
   ],
   "source": [
    "# evaluate the model\n",
    "print(confusion_matrix(y_test, y_pred))\n",
    "print(classification_report(y_test, y_pred))\n",
    "print(accuracy_score(y_test, y_pred))"
   ]
  },
  {
   "attachments": {},
   "cell_type": "markdown",
   "id": "0da432bd",
   "metadata": {
    "papermill": {
     "duration": 0.007867,
     "end_time": "2023-05-26T04:14:43.274804",
     "exception": false,
     "start_time": "2023-05-26T04:14:43.266937",
     "status": "completed"
    },
    "tags": []
   },
   "source": [
    "## Step 3: Working with your model\n",
    "\n",
    "A. Exploration: Search for and create a list of at least (1) 5 high ranked positive words and (2) 5 high ranked negative words. Create code blocks that clearly indicate a list of these words and their weights."
   ]
  },
  {
   "cell_type": "code",
   "execution_count": 22,
   "id": "ab80e065",
   "metadata": {
    "execution": {
     "iopub.execute_input": "2023-05-26T04:14:43.291984Z",
     "iopub.status.busy": "2023-05-26T04:14:43.291635Z",
     "iopub.status.idle": "2023-05-26T04:14:43.335866Z",
     "shell.execute_reply": "2023-05-26T04:14:43.334057Z"
    },
    "papermill": {
     "duration": 0.055913,
     "end_time": "2023-05-26T04:14:43.338554",
     "exception": false,
     "start_time": "2023-05-26T04:14:43.282641",
     "status": "completed"
    },
    "tags": []
   },
   "outputs": [
    {
     "name": "stdout",
     "output_type": "stream",
     "text": [
      "Top 5 positive scores:\n",
      "       sentiment_score                                     review_cleaned  \\\n",
      "42946           0.9999  by now you ve probably heard bit about new dis...   \n",
      "16498           0.9998  the quintessential georgian film of georgi dan...   \n",
      "38816           0.9998  this awesome amicus horror anthology with 3 gr...   \n",
      "28525           0.9998  jim carrey back much same role that he played ...   \n",
      "30324           0.9998  i had lost faith sooraj r barjatya after movie...   \n",
      "\n",
      "      sentiment_nltk  \n",
      "42946       Positive  \n",
      "16498       Positive  \n",
      "38816       Positive  \n",
      "28525       Positive  \n",
      "30324       Positive  \n",
      "\n",
      "Top 5 negative scores:\n",
      "       sentiment_score                                     review_cleaned  \\\n",
      "45221          -0.9997   nobi fires on plain film that so excellent so...   \n",
      "4447           -0.9997  i m going write about this movie about irrever...   \n",
      "7602           -0.9997  the bone collector set new york city starts on...   \n",
      "38418          -0.9996  this movie was so bad i don t know where begin...   \n",
      "21342          -0.9996  the main achievement of this film that though ...   \n",
      "\n",
      "      sentiment_nltk  \n",
      "45221       Negative  \n",
      "4447        Negative  \n",
      "7602        Negative  \n",
      "38418       Negative  \n",
      "21342       Negative  \n"
     ]
    }
   ],
   "source": [
    "# Sort the data by sentiment_score in descending order\n",
    "sorted_data = df.sort_values('sentiment_score', ascending=False)\n",
    "\n",
    "# Get the top 5 positive scores and their corresponding reviews\n",
    "top_positive_scores = sorted_data.head(5)[['sentiment_score', 'review_cleaned', 'sentiment_nltk']]\n",
    "\n",
    "# # Sort the data by sentiment_score in ascending order\n",
    "sorted_data = df.sort_values('sentiment_score', ascending=True)\n",
    "\n",
    "# # Get the top 5 negative scores and their corresponding reviews\n",
    "top_negative_scores = sorted_data.head(5)[['sentiment_score', 'review_cleaned', 'sentiment_nltk']]\n",
    "\n",
    "# Print the results\n",
    "print(\"Top 5 positive scores:\")\n",
    "print(top_positive_scores)\n",
    "\n",
    "print(\"\\nTop 5 negative scores:\")\n",
    "print(top_negative_scores)"
   ]
  },
  {
   "attachments": {},
   "cell_type": "markdown",
   "id": "01ff9149",
   "metadata": {
    "papermill": {
     "duration": 0.008048,
     "end_time": "2023-05-26T04:14:43.356407",
     "exception": false,
     "start_time": "2023-05-26T04:14:43.348359",
     "status": "completed"
    },
    "tags": []
   },
   "source": [
    "B. Preparation - Remove at least 5 words from the dataset that are clearly stop words (ex: \"the\"). Create a code blocks that clearly demonstrate that these words have been removed. Also, explain why these words have been chosen. 5 stop words, the, a/A, an/An, on, or are removed. 'the' is removed whereas 'The' is not removed here though it will be switched to lower case eventually. I chose these words as most troubling words in processing data.  "
   ]
  },
  {
   "cell_type": "code",
   "execution_count": 23,
   "id": "84a4f6d9",
   "metadata": {
    "execution": {
     "iopub.execute_input": "2023-05-26T04:14:43.376404Z",
     "iopub.status.busy": "2023-05-26T04:14:43.375517Z",
     "iopub.status.idle": "2023-05-26T04:14:43.381939Z",
     "shell.execute_reply": "2023-05-26T04:14:43.380524Z"
    },
    "papermill": {
     "duration": 0.018703,
     "end_time": "2023-05-26T04:14:43.384009",
     "exception": false,
     "start_time": "2023-05-26T04:14:43.365306",
     "status": "completed"
    },
    "tags": []
   },
   "outputs": [],
   "source": [
    "# Already removed from step 2 above\n",
    "# function that cleans the text removing stop words: a, an, the, as, is, to, in, on, or, it, and\n",
    "def clean_text(text):\n",
    "    text = re.sub(r'<.*?>', '', text) # remove html tags\n",
    "    text = re.sub(r'[^\\w\\s]', ' ', text) # replace comma, ending periods to a space\n",
    "    text = re.sub(r'\\bthe\\b', '', text) # remove 'the'\n",
    "    text = re.sub(r'\\b(?:an|An|a|A)\\b', '', text) # remove 'an', 'An', 'a', 'A'\n",
    "    text = re.sub(r'\\b(?:as|is|to|in)\\b', '', text) # remove 'as', 'is', 'to', 'in'\n",
    "    text = re.sub(r'\\b(?:on|or|it|and)\\b', '', text) # remove 'on', 'or', 'it', 'and'\n",
    "    text = text.lower() # make strings lower case\n",
    "    text = re.sub('  ', ' ', text) # remove extra space 1\n",
    "    text = re.sub('  ', ' ', text) # remove extra space 2\n",
    "    return text "
   ]
  },
  {
   "attachments": {},
   "cell_type": "markdown",
   "id": "7d5b2609",
   "metadata": {
    "papermill": {
     "duration": 0.008005,
     "end_time": "2023-05-26T04:14:43.400832",
     "exception": false,
     "start_time": "2023-05-26T04:14:43.392827",
     "status": "completed"
    },
    "tags": []
   },
   "source": [
    "C. Recreate a model using new variables:   \n",
    "- Split the data into training/testing data using either 80/20 or 75/25 splits\n",
    "- Train the new model\n",
    "- Evaluate the testing data for accuracy. How did your model perform? "
   ]
  },
  {
   "cell_type": "code",
   "execution_count": 24,
   "id": "1f430bc6",
   "metadata": {
    "execution": {
     "iopub.execute_input": "2023-05-26T04:14:43.419226Z",
     "iopub.status.busy": "2023-05-26T04:14:43.418829Z",
     "iopub.status.idle": "2023-05-26T04:14:43.433967Z",
     "shell.execute_reply": "2023-05-26T04:14:43.432891Z"
    },
    "papermill": {
     "duration": 0.027005,
     "end_time": "2023-05-26T04:14:43.436381",
     "exception": false,
     "start_time": "2023-05-26T04:14:43.409376",
     "status": "completed"
    },
    "tags": []
   },
   "outputs": [],
   "source": [
    "# import pandas as pd\n",
    "# from sklearn.model_selection import train_test_split\n",
    "\n",
    "# Split the data into features (X) and labels (y)\n",
    "X = df[\"review_cleaned\"]\n",
    "y = df[\"sentiment_nltk\"]\n",
    "\n",
    "# Split the data into training and testing sets using an 80/20 split\n",
    "X_train, X_test, y_train, y_test = train_test_split(X, y, test_size=0.2, random_state=42)"
   ]
  },
  {
   "cell_type": "code",
   "execution_count": 25,
   "id": "92c4469d",
   "metadata": {
    "execution": {
     "iopub.execute_input": "2023-05-26T04:14:43.454983Z",
     "iopub.status.busy": "2023-05-26T04:14:43.454211Z",
     "iopub.status.idle": "2023-05-26T04:15:08.993026Z",
     "shell.execute_reply": "2023-05-26T04:15:08.991640Z"
    },
    "papermill": {
     "duration": 25.550464,
     "end_time": "2023-05-26T04:15:08.995312",
     "exception": false,
     "start_time": "2023-05-26T04:14:43.444848",
     "status": "completed"
    },
    "tags": []
   },
   "outputs": [
    {
     "name": "stdout",
     "output_type": "stream",
     "text": [
      "[[2419  894]\n",
      " [ 464 6223]]\n",
      "              precision    recall  f1-score   support\n",
      "\n",
      "    Negative       0.84      0.73      0.78      3313\n",
      "    Positive       0.87      0.93      0.90      6687\n",
      "\n",
      "    accuracy                           0.86     10000\n",
      "   macro avg       0.86      0.83      0.84     10000\n",
      "weighted avg       0.86      0.86      0.86     10000\n",
      "\n",
      "0.8642\n"
     ]
    }
   ],
   "source": [
    "from sklearn.feature_extraction.text import TfidfVectorizer\n",
    "from sklearn.linear_model import LogisticRegression\n",
    "\n",
    "# create a TF-IDF vectorizer\n",
    "tfidfvectorizer = TfidfVectorizer(stop_words='english', ngram_range=(1,2), max_features=5000)\n",
    "\n",
    "# fit and transform the training data\n",
    "X_train = tfidfvectorizer.fit_transform(X_train)\n",
    "\n",
    "# transform the test data\n",
    "X_test = tfidfvectorizer.transform(X_test)\n",
    "\n",
    "# create a logistic regression model\n",
    "logreg = LogisticRegression(solver='liblinear')  # have to use liblinear solver because of the large dataset\n",
    "logreg.fit(X_train, y_train)\n",
    "y_pred = logreg.predict(X_test)\n",
    "\n",
    "# evaluate the model\n",
    "print(confusion_matrix(y_test, y_pred))\n",
    "print(classification_report(y_test, y_pred))\n",
    "print(accuracy_score(y_test, y_pred))"
   ]
  },
  {
   "attachments": {},
   "cell_type": "markdown",
   "id": "1585dde7",
   "metadata": {
    "papermill": {
     "duration": 0.008193,
     "end_time": "2023-05-26T04:15:09.012086",
     "exception": false,
     "start_time": "2023-05-26T04:15:09.003893",
     "status": "completed"
    },
    "tags": []
   },
   "source": [
    "D. Identify the top 2 most positive reviews and the top 2 most negative reviews. Print out the entire text of each review. "
   ]
  },
  {
   "cell_type": "code",
   "execution_count": 26,
   "id": "96414d96",
   "metadata": {
    "execution": {
     "iopub.execute_input": "2023-05-26T04:15:09.031598Z",
     "iopub.status.busy": "2023-05-26T04:15:09.031245Z",
     "iopub.status.idle": "2023-05-26T04:15:09.074341Z",
     "shell.execute_reply": "2023-05-26T04:15:09.072775Z"
    },
    "papermill": {
     "duration": 0.055516,
     "end_time": "2023-05-26T04:15:09.076448",
     "exception": false,
     "start_time": "2023-05-26T04:15:09.020932",
     "status": "completed"
    },
    "tags": []
   },
   "outputs": [
    {
     "name": "stdout",
     "output_type": "stream",
     "text": [
      "Top 2 positive reviews:\n",
      "\n",
      "Review: by now you ve probably heard bit about new disney dub of miyazaki s classic film laputa castle in the sky during late summer of 1998 disney released kiki s delivery service video which included preview of laputa dub saying was due out 1999 it s obviously way past that year now but dub has been finally completed and s not laputa castle in the sky just castle in the sky for dub since laputa not such nice word spanish even though they use word laputa many times throughout dub you ve also probably heard that world renowned composer joe hisaishi who scored movie originally went back rescore excellent music with new arrangements laputa came out before my neighbor totoro after nausicaa of valley of wind which began studio ghibli s long string of hits and my opinion i think s one of miyazaki s best films with powerful lesson tuckered inside this two hour four minute gem laputa castle sky film for all ages i urge everyone see for those unfamiliar with castle sky s story begins right at start doesn t stop for next two hours the storytelling so flawless masterfully crafted you see miyazaki s true vision and believe me s one fantastic one the film begins with sheeta girl with one helluva past she being held captive by government airship sheeta holds key laputa castle sky long lost civilization the key laputa sacred pendant she has which sought by many namely government military air pirate group dola gang who sheeta pazu later befriend soon pirates attack ship she escapes during raid she falls few thousand feet but fall soft thanks her pendant as she floats down from sky pazu orphan boy who survives by working mines sees sheeta catches her the two become fast friends but thanks her pendant two get caught up one huge thrill ride dola gang government try capture sheeta one action sequence after another we learn all of character s motives identities we build emotional action packed climax which will surely please all with s fantastic animation wonderful dialogue plus somewhat twisty surprise i think this film simply remarkable does hold for two hour four minute run time the story wonderful we peak into hayao miyazaki s animation which has no limits the setting of film combo of many time periods it does seem take place at end of 1800s but some alternante universe which has advanced technology weapons laputa also surprisingly funny film the film has tons of hilarious moments almost equal drama action film holds i think funniest part fight scene where pazu s boss faces off against pirate soon after riot breaks out it s funny we see men compare their strength music fits right with perfectly now let s talk about how dub rates excellent cast give some great performances bring these characters life teen heartthrob james van der beek plays hero pazu who has much more mature voice then japanese version where original he sounded more childlike either way i think his voice nice fit with pazu anna paquin young oscar winner from the piano plays sheeta this also nice performance but voice bit uneven she doesn t stay true one accent at times she sounds american apple pie but at other times she sounds like someone from new zealand the performance i most enjoyed however was of coris leachman who played mama dola not only this excellent performance but voice emotion she gives character really brings life if there was ever live action laputa movie g d forbid she would be one play her you can just imagine her role well somewhat luke skywalker himself mark hamill muska this another top rate hamill performance you may be familiar with hamill from long line of voice work after he did original star wars movies but he renders muska full evil his voice sounds like his regular voice mix of joker who he played for many episodes animated batman series rounding out cast voice character actor jim cummings who does great gruff job general andy dick mandy patakin members of dola gang now let me talk about what really makes this dub special joe hisaishi s newly arranged music for those who have never heard of him mr hisaishi does music like all of miyazaki s films music very memorable each of his scores has s own personas which fits particular film perfectly now these new arrangements he has done are more american like which i think was goal of new recordings don t worry classic tunes of japanese version are still here great form the score me sounds be arranged like this hollywood blockbuster it has more power has more emphasis s clearer deeper the film s prologue first seconds where we are introduced airships has some new music i am not sure but i believe when we first saw ships there was no music at all but majority of music has new backdrops more background music enjoy things seem very enhanced in powerful scene music more stronger then original versions in calm scene s more calmer overall i think many of you will be pleased with new arrangements mixes i highly did myself personally think helps improve film i prefer new score over old one i hope disney will release license music rights full blown soundtrack another plus side dub that story remains faithful much of original japanese lines are intact in kiki i m sure few lines where changed this same way lines have been changed but majority are close exactly original lines dialogue miyazaki has written i was afraid some excellent lines would be butchered but they were there intact some new lines have been added well which help out but i am not sure whether consider this good thing bad thing disney did not translate ending song was japanese i was mortified when they did completely new songs for kiki dub but with this version s original song  japanese so i guess s good s still original but bad since majority of people seeing this dub speak english there big down side this dub deals with how voices match character s lips of course any dub won t be perfect but i think kiki mononoke dubbing of lines match were much better executed disney had little bit more time with this one  some of time everything matches perfect some of time doesn t completley match  rare case someone says something lips don t move at all there s scene where sheeta chuckles her mouth doesn t move one bit as far things about film itself these are my thoughts i thought most amazing part of laputa was animation from opening sequence ending animation so lush detailed you just have watch awe you see true nature of each character true detail their face with extreme close ups action you have give ton of credit for effort that these animators put into this film everything so well done beautifully hand drawn s like moving piece of art and think this was done mid 1980 s the animation quite different from disney ghibli has s own distinctive flare which very different but very good and after all these years colors look vibrant ever laputa also has tons of action sequences lots of plane dogfights plus few ground these sequences are so well done so intriguing s scary that they are comparable big budget action film and finale just something you must see the sound effects are pure classic fit explosions guns firing everything else well and like all miyazaki films each one focuses different theme i g kiki confidence this one has great lesson greed power people don t realize how greed can take over you how having too much power isn t good people are obsessed with power are greedy main villian muska greatly shows this all all laputa castle in the sky was great film begin with now improved for most part i am glad more mainstream audience now have chance see this classic animated film all s glory with great voice cast who put lot into film with excellent redone musical score from joe hisaishi disney has done nice job this dub quite worthy though i think voices matched mouths better kiki princess mononoke disney dubs castle in the sky still great dub worth long delays because now more can expierence fantastic film \n",
      "Sentiment: Positive\n",
      "Score: 0.9999\n",
      "\n",
      "Review: the quintessential georgian film of georgi danelia ne goryuy 1969 aka don t grieve loosely based novel by french writer claude tillier 1801 1844 mon oncle benjamin the novel takes place country side of 18th century france the great french revolution still ahead but some of its stormy signs are present society benjamin local doctor soul of local society educated friendly democratic person who often treats poor for free it makes him very popular with locals but most certainly does not help with his bank account he love with beautiful manette who also crazy about him but being watched closely by her father who called his daughter his small capital determined protect her virginity until moment marriage contract has been signed i never read book from description sounds like charming very french novel but i am fascinated with results of moving characters some plot elements from 18th century france beginning of 20th century georgia grusiya i would think that was danelia who came up with all colorful memorable characters that feel so much at home his native georgia grusiya land of long wonderful traditions including art of making drinking wine rare music talent that all georgians seem possess very unique humor high code of honor when we watched film last night together with my husband he said what great example of art film i so agree with him don t grieve perfect art movie visually beautiful deep but funny at times sad philosophical but never preachy arrogant way but optimistic celebrating life with all its beauty sadness full of interest loving irony understanding for its slightly eccentric but very human characters what most important film warm gentle does not look down at its viewers some of art pictures do you don t have be movie buff love live with smile sigh at follow good hearted young doctor benjamin first role danelia film of famous singer actor wachtang kikabidze with whom danelia would go make two more films including one of my all time favorites mimino his journey through roads mountains of georgia or be guest one of kind party where friends gather celebrate life of old doctor levan who wanted be guest his own wake hear what his friends have say about him when he dies while he still alive who gets choose which color he prefers for his coffin when i watched film i thought that sort of movie that federico fellini might have liked i was not surprised at all find article about danelia where he names fellini his number one director i also found out that according danelia famous soviet directors leonid gaiday creator of many beloved comedies sergei paraszhanov visionary whom i don t have introduce loved another danelia s film fairy tale about american boy huck finn sovsem propashchiy felt spoke negatively about don t grieve while fellini praised highly i dare go little further just guess that perhaps maestro fellini kept mind some images very aura atmosphere of don t grieve when he was making amrarcord 1973 just thought because there something essential that connects both films both artists came back their roots places that they love deeply people they remembered loved wanted honor both films have lot of smiles through tears both are art movies that would get directly hearts of viewers both are masterworks i think i am going add georgi danelia list of my favorite directors he has made some of brilliant pictures my most favorite genre of dramedy even tragicomedies that are funny bitter sweet poignant subtle earthy uplifting gentle shining when i looked up list of movies he has written directed i was amazed at fact that he has not made single bad film since he started back 1960 with award winning story of young boy seryozha many of danelia s films are among my favorites i am sure they are among his legions of fans the man behind seryozha sovsem propashchiy 1972 which adaptation of mark twain the adventures of huckleberry finn 33 ya shagayu po moskve 1964 aka walking streets of moscow ne goryuy 1969 aka don t grieve afonya 1975 mimino 1977 osenniy marafon 1979 aka autumn marathon sad comedy which very fitting title for this movie well for whole genre that danelia practically invented cult favorite for over 20 years kin dza dza 1986 brilliant deserves our true love genuine gratitude for unforgettable moments of cinematic happiness \n",
      "Sentiment: Positive\n",
      "Score: 0.9998\n",
      "\n",
      "Top 2 negative reviews:\n",
      "\n",
      "Review:  nobi fires on plain film that so excellent so many levels that not enough good things can be said about my only regret that i was not able see this 1959 film sooner being something of film purist i tend look at films for their artistic merits based upon dialog acting photography even efforts remain true period terms of costume ultimately i want know if film truthful enough revealing human condition make me think without oppressing me with what director wants me think fires plain great film because crafts portrait filled with realistic human reactions dying fires of great historical catastrophe ichikawa s film condemnation of war all levels  any good war film should be war horrifying bloody destructive it also murderous psyche however what fundamental about fires plain its unapologetic look at japanese soldiers it shows them slowly collapsing under weight of superior american firepower their nation s inability wage war of its own making fatalistic code encouraging death before surrender at heart of this madness i was astonished see such honest brutally close look at bitter fruits of japan s military misadventure made just 14 years after end of what japanese call great pacific war ichikawa reveals what germans called war life plight of common soldier ichikawa s film interesting since even today japan having hard time fully coming terms with its wartime fanaticism its subjugation of conquered peoples racism of its war against chinese war crimes which included cannibalism by soldiers officers practiced not only against one another but against allied prisoners of war ichikawa produces stark representation of victimization of soldiers by confluence of bad political decisions cultural pressures this stark examination skillfully done by portraying doomed soldiers human beings who exhibit at various times fear brilliantly laconic humor dialog enriched by its sparseness plot whose complexity belied by grim wilderness setting ichikawa s portrait ragged painful tapestry of defeated men the tubercular tamura played woebegone gentle soul by eiji funakoshi good soldier who can t abandon his humanity though he frightened lost his comrades before he departs for hospital that will reject him too healthy tamura given hand grenade by superior who recognizing hopelessness of their situation advises tamura kill himself why tamura s hopelessly ill supplied militarily incapable unit was not ordered surrender at start of film telling ichikawa makes plain that war over everyone merely waiting die as tamura leaves his unit for his hopeless search for physical spiritual salvation he sees his comrades pointlessly digging air raid shelter they appear like corpses looking up from their own mass grave we later watch overworked hospital s medical staff abandons dying patients all consuming american artillery barrage the pathetic patients who crawl from their huts vain attempt survive appear like pathetic serpentine creatures dragging themselves from omnipotent force you know they won t survive ichikawa makes plain that only thing worse than defeated army one that has lost its honor by abandoning its humanity its comrades as tamura staggers through jungles of leyte we encounter noble dying exploitive cannibalism rears its ugly head soldiers begin eat one another rather than surrender american corned beef when men do talk of surrender propaganda of how americans kills prisoners countered by worldly wise soldier who reveals that approaching americans feed care for prisoners of war because they unlike japanese respect brave soldiers who are forced give up it japanese who intend die fighting for emperor long after resistance has lost all meaning those willing fight death will be killed it calculus of war after shooting murderous cannibalistic comrade whom he earlier offered his own body food fatalistic tamura s careless surrender also seems be intentional form of suicide his death lonely image was ichikawa trying tell us of internal conflict of ordinary soldier who wants live but who still trapped by his nation s suicidal cultural codes if someone watches this film carefully he she will see that absolutism fanaticism enemy the americans are portrayed technologically advanced people willing employ that technology form of inexorable military power  lesson that transformed japanese postwar society ichikawa s film isn t so shallow that indicts america ichikawa indicts sedimentary layers of japan s destructive policies that created war then continue when all was lost ichikawa does not mention nuclear weapons dropped upon nagasaki hiroshima he doesn t have the slow motion destruction of imperial japanese army philippines reveals seeds of japan s immolation \n",
      "Sentiment: Negative\n",
      "Score: -0.9997\n",
      "\n",
      "Review: i m going write about this movie about irreversible  famous scene  so you are warned if you haven t seen movie yet this are just my thoughts why i think movie fails end pun intended acting wise rosario dawson really good almost conveys portraying someone almost decade younger teenager other words the villain guy good but loses his evil touch right before end if he really never changes then why would he let woman tie him up he wouldn t period then we also have bartender 2nd rape dude actually i don t think you would need him at least not for 2nd rape but more about that later let s reprise story rosarios character sexually insecure might even have lesbian tendencies see her scene with female friend this wasn t intentional rosario states herself but there sexual tension between them rosario s character meets guy who sexual predator all bad senses but he makes impression her rosario commented that her character had boyfriend before i beg differ because she acts if her first boyfriend which also underlines her phone conversation with her mother talking about her mother here s another problem after first rape takes place rosarios character doesn t tell anyone what happened seiing that her relationship with her mother very close one nothing of that gets explored after that if rosarios character wouldn t call her mother anymore would behave strangely mother would be worried like crazy there was so much potential here also her female friend we see her at party s obvious there something going boom she gone the first rape almost unbearable watch but feels like pinch when you compare ending rape which feels like you re getting hit with sledge hammer after rape no 1 we get too stretched out scenes threads are opened such her construction work indication that she might be lesbian one guy states who tried hit her  but left open no real social contact established if you leave bartender guy out who involved 2nd last rape scene it s apparent that he isn t nice guy his character get s fleshed out bit but when rosarios character meets her rapist class again his being movie seems pointless we get point that rosarios character isn t same anymore that she went bad able hurt people too many scenes show exactly that her being without emotion just doing drugs other stuff back rapist 1 who cheats test gets caught by rosarios character they decide hang out together again really as absurd that sounds guy meets up with her not without us having seen him beforehand with another girl very likely that he raped her too although we never see anything of that fortunately his football career well career stretch he bullied this attempt give his character some depth almost works but then again too cliché stay with you so rapist 1 submits rosarios character  why exactly because he promised her was her day again really guy like that never loses control especially with woman he raped before  i guess this supposed show us how stupid he the bartender guy would have worked someone who could have hit him over head something but letting him submit like that just feels wrong another possibility would have drug his drink so rapist 1 undresses get s blindfolded let s rosarios character tie him bed  seriously that s just crazy but what comes next even crazier first she talks him then she shuts him up forces object into him this difficult watch rape scene number one this isn t about what this guy deserves not s just intense and of course that was what they were aiming for now after she done bartender guy comes rapes  rapist 1 if this really should work revenge movie would have been better if rosarios character herself would have been doing all revenge having henchman doing job takes away everything that was built up this isn t supposed be entertaining enjoyable s hard watch  art house but 10 minute i didn t count rape scene at end just smashes everything rosarios character more less only watching what happens which brings me biggest disappointment irreversible comparison irreversible had rape scene but movie went even if was back into time rosario looking into camera end says something about having get over this first that comes bit too late that should see her say that after initial rape and secondly most importantly this where art house movie should ve come it more interesting seeing were rosarios character would go after second rape scene how she would cope with what she had done but then again she didn t actually physically do that much see above  broken character that movie cuts off good intentions talia rosario had worked before but failing convey most of things they set out do even if you can see what they meant has be convincing otherwise doesn t work  not mention overlong rape scenes they are \n",
      "Sentiment: Negative\n",
      "Score: -0.9997\n",
      "\n"
     ]
    }
   ],
   "source": [
    "# Sort the data by sentiment_score in descending order\n",
    "sorted_data = df.sort_values('sentiment_score', ascending=False)\n",
    "# Set the display options to show the entire text of the review column\n",
    "pd.set_option('display.max_colwidth', None)\n",
    "# Get the top 2 positive scores and their corresponding reviews\n",
    "top_2_positive_reviews = sorted_data.head(2)[['review_cleaned','sentiment_nltk','sentiment_score']]\n",
    "\n",
    "print(\"Top 2 positive reviews:\\n\")\n",
    "#print(top_2_positive_reviews) # # since this fails to display the 2nd row of 'review_cleaned' need to iterrate below\n",
    "for _, row in top_2_positive_reviews.iterrows():\n",
    "    print(\"Review:\", row['review_cleaned'])\n",
    "    print(\"Sentiment:\", row['sentiment_nltk'])\n",
    "    print(\"Score:\", row['sentiment_score'])\n",
    "    print()\n",
    "\n",
    "# Sort the data by sentiment_score in ascending order\n",
    "sorted_data = df.sort_values('sentiment_score', ascending=True)\n",
    "# Set the display options to show the entire text of the review column\n",
    "pd.set_option('display.max_colwidth', None)\n",
    "# Get the top 2 negative scores and their corresponding reviews\n",
    "top_2_negative_reviews = sorted_data.head(2)[['review_cleaned','sentiment_nltk','sentiment_score']]\n",
    "\n",
    "print(\"Top 2 negative reviews:\\n\")\n",
    "#print(top_2_negative_reviews) # since this fails to display the 2nd row of 'review_cleaned' need to iterrate below\n",
    "for _, row in top_2_negative_reviews.iterrows():\n",
    "    print(\"Review:\", row['review_cleaned'])\n",
    "    print(\"Sentiment:\", row['sentiment_nltk'])\n",
    "    print(\"Score:\", row['sentiment_score'])\n",
    "    print()\n"
   ]
  }
 ],
 "metadata": {
  "kernelspec": {
   "display_name": "Python 3",
   "language": "python",
   "name": "python3"
  },
  "language_info": {
   "codemirror_mode": {
    "name": "ipython",
    "version": 3
   },
   "file_extension": ".py",
   "mimetype": "text/x-python",
   "name": "python",
   "nbconvert_exporter": "python",
   "pygments_lexer": "ipython3",
   "version": "3.11.2"
  },
  "papermill": {
   "default_parameters": {},
   "duration": 344.995809,
   "end_time": "2023-05-26T04:15:12.442894",
   "environment_variables": {},
   "exception": null,
   "input_path": "__notebook__.ipynb",
   "output_path": "__notebook__.ipynb",
   "parameters": {},
   "start_time": "2023-05-26T04:09:27.447085",
   "version": "2.4.0"
  }
 },
 "nbformat": 4,
 "nbformat_minor": 5
}
