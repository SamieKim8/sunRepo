{
 "cells": [
  {
   "attachments": {},
   "cell_type": "markdown",
   "id": "87e0124d",
   "metadata": {
    "papermill": {
     "duration": 0.009027,
     "end_time": "2023-06-08T00:44:24.958383",
     "exception": false,
     "start_time": "2023-06-08T00:44:24.949356",
     "status": "completed"
    },
    "tags": []
   },
   "source": [
    "## Title: Naive Bayes Model\n",
    "#### Name: Sunmi Kim\n",
    "#### Date: 06/07/2023\n",
    "\n",
    "#### **Machine Learning: 7 major steps**\n",
    "\n",
    "1. Collect and explore data\n",
    "1. Prepare the data\n",
    "1. Choose a model\n",
    "1. Train your model\n",
    "1. Evaluate your model\n",
    "1. Parameter tuning\n",
    "1. Make predictions\n",
    "\n",
    "- **Data preparation** is the process of transforming raw data into a format that is suitable for machine learning algorithms. It involves cleaning, filtering, inputing, scaling, encoding, and splitting.    \n",
    "- **Data exploration** helps to understand the patterns and problems in the dataset as well as deciding which model or algorithm to use. Data are reorganized in a way that they are presented in an understandable way. It involves visualizing, summarizing, testing, and modeling. "
   ]
  },
  {
   "attachments": {},
   "cell_type": "markdown",
   "id": "93c61009",
   "metadata": {
    "papermill": {
     "duration": 0.008314,
     "end_time": "2023-06-08T00:44:24.975448",
     "exception": false,
     "start_time": "2023-06-08T00:44:24.967134",
     "status": "completed"
    },
    "tags": []
   },
   "source": [
    "## Step 1 Data Exploration and Preparation\n",
    "\n",
    "#### raw data location: \n",
    "/kaggle/input/naive-bayes-chapter-8/emails.csv"
   ]
  },
  {
   "cell_type": "code",
   "execution_count": 2,
   "id": "3e3b9a26",
   "metadata": {
    "execution": {
     "iopub.execute_input": "2023-06-08T00:44:24.995107Z",
     "iopub.status.busy": "2023-06-08T00:44:24.994636Z",
     "iopub.status.idle": "2023-06-08T00:44:25.201163Z",
     "shell.execute_reply": "2023-06-08T00:44:25.200182Z"
    },
    "papermill": {
     "duration": 0.218927,
     "end_time": "2023-06-08T00:44:25.203238",
     "exception": false,
     "start_time": "2023-06-08T00:44:24.984311",
     "status": "completed"
    },
    "tags": []
   },
   "outputs": [
    {
     "data": {
      "text/html": [
       "<div>\n",
       "<style scoped>\n",
       "    .dataframe tbody tr th:only-of-type {\n",
       "        vertical-align: middle;\n",
       "    }\n",
       "\n",
       "    .dataframe tbody tr th {\n",
       "        vertical-align: top;\n",
       "    }\n",
       "\n",
       "    .dataframe thead th {\n",
       "        text-align: right;\n",
       "    }\n",
       "</style>\n",
       "<table border=\"1\" class=\"dataframe\">\n",
       "  <thead>\n",
       "    <tr style=\"text-align: right;\">\n",
       "      <th></th>\n",
       "      <th>text</th>\n",
       "      <th>spam</th>\n",
       "    </tr>\n",
       "  </thead>\n",
       "  <tbody>\n",
       "    <tr>\n",
       "      <th>0</th>\n",
       "      <td>Subject: naturally irresistible your corporate...</td>\n",
       "      <td>1</td>\n",
       "    </tr>\n",
       "    <tr>\n",
       "      <th>1</th>\n",
       "      <td>Subject: the stock trading gunslinger  fanny i...</td>\n",
       "      <td>1</td>\n",
       "    </tr>\n",
       "    <tr>\n",
       "      <th>2</th>\n",
       "      <td>Subject: unbelievable new homes made easy  im ...</td>\n",
       "      <td>1</td>\n",
       "    </tr>\n",
       "    <tr>\n",
       "      <th>3</th>\n",
       "      <td>Subject: 4 color printing special  request add...</td>\n",
       "      <td>1</td>\n",
       "    </tr>\n",
       "    <tr>\n",
       "      <th>4</th>\n",
       "      <td>Subject: do not have money , get software cds ...</td>\n",
       "      <td>1</td>\n",
       "    </tr>\n",
       "    <tr>\n",
       "      <th>5</th>\n",
       "      <td>Subject: great nnews  hello , welcome to medzo...</td>\n",
       "      <td>1</td>\n",
       "    </tr>\n",
       "    <tr>\n",
       "      <th>6</th>\n",
       "      <td>Subject: here ' s a hot play in motion  homela...</td>\n",
       "      <td>1</td>\n",
       "    </tr>\n",
       "    <tr>\n",
       "      <th>7</th>\n",
       "      <td>Subject: save your money buy getting this thin...</td>\n",
       "      <td>1</td>\n",
       "    </tr>\n",
       "    <tr>\n",
       "      <th>8</th>\n",
       "      <td>Subject: undeliverable : home based business f...</td>\n",
       "      <td>1</td>\n",
       "    </tr>\n",
       "    <tr>\n",
       "      <th>9</th>\n",
       "      <td>Subject: save your money buy getting this thin...</td>\n",
       "      <td>1</td>\n",
       "    </tr>\n",
       "  </tbody>\n",
       "</table>\n",
       "</div>"
      ],
      "text/plain": [
       "                                                text  spam\n",
       "0  Subject: naturally irresistible your corporate...     1\n",
       "1  Subject: the stock trading gunslinger  fanny i...     1\n",
       "2  Subject: unbelievable new homes made easy  im ...     1\n",
       "3  Subject: 4 color printing special  request add...     1\n",
       "4  Subject: do not have money , get software cds ...     1\n",
       "5  Subject: great nnews  hello , welcome to medzo...     1\n",
       "6  Subject: here ' s a hot play in motion  homela...     1\n",
       "7  Subject: save your money buy getting this thin...     1\n",
       "8  Subject: undeliverable : home based business f...     1\n",
       "9  Subject: save your money buy getting this thin...     1"
      ]
     },
     "execution_count": 2,
     "metadata": {},
     "output_type": "execute_result"
    }
   ],
   "source": [
    "import numpy as np\n",
    "import re\n",
    "import pandas as pd\n",
    "import pathlib\n",
    "\n",
    "path = 'emails.csv'\n",
    "emails = pd.read_csv(path) # ('/kaggle/input/naive-bayes-chapter-8/emails.csv')\n",
    "emails[0:10]\n"
   ]
  },
  {
   "cell_type": "code",
   "execution_count": 3,
   "id": "774fd25b",
   "metadata": {
    "execution": {
     "iopub.execute_input": "2023-06-08T00:44:25.224324Z",
     "iopub.status.busy": "2023-06-08T00:44:25.223907Z",
     "iopub.status.idle": "2023-06-08T00:44:25.229876Z",
     "shell.execute_reply": "2023-06-08T00:44:25.228951Z"
    },
    "papermill": {
     "duration": 0.019654,
     "end_time": "2023-06-08T00:44:25.232237",
     "exception": false,
     "start_time": "2023-06-08T00:44:25.212583",
     "status": "completed"
    },
    "tags": []
   },
   "outputs": [],
   "source": [
    "# The emails DataFrame has a column for the text of each email\n",
    "# List (ordered not removing duplicates) vs. Set (unordered removing duplicates)\n",
    "\n",
    "def process_email(text):\n",
    "    '''takes text string and splits into a list of words removing duplicates'''\n",
    "    text = text.lower() # make strings lower case\n",
    "    # The words are passed to a set function to remove duplicates\n",
    "    return list(set(text.split()))"
   ]
  },
  {
   "cell_type": "code",
   "execution_count": 4,
   "id": "d65ab976",
   "metadata": {
    "execution": {
     "iopub.execute_input": "2023-06-08T00:44:25.252146Z",
     "iopub.status.busy": "2023-06-08T00:44:25.251131Z",
     "iopub.status.idle": "2023-06-08T00:44:25.583271Z",
     "shell.execute_reply": "2023-06-08T00:44:25.581914Z"
    },
    "papermill": {
     "duration": 0.345166,
     "end_time": "2023-06-08T00:44:25.586276",
     "exception": false,
     "start_time": "2023-06-08T00:44:25.241110",
     "status": "completed"
    },
    "tags": []
   },
   "outputs": [
    {
     "data": {
      "text/html": [
       "<div>\n",
       "<style scoped>\n",
       "    .dataframe tbody tr th:only-of-type {\n",
       "        vertical-align: middle;\n",
       "    }\n",
       "\n",
       "    .dataframe tbody tr th {\n",
       "        vertical-align: top;\n",
       "    }\n",
       "\n",
       "    .dataframe thead th {\n",
       "        text-align: right;\n",
       "    }\n",
       "</style>\n",
       "<table border=\"1\" class=\"dataframe\">\n",
       "  <thead>\n",
       "    <tr style=\"text-align: right;\">\n",
       "      <th></th>\n",
       "      <th>text</th>\n",
       "      <th>spam</th>\n",
       "      <th>words</th>\n",
       "    </tr>\n",
       "  </thead>\n",
       "  <tbody>\n",
       "    <tr>\n",
       "      <th>0</th>\n",
       "      <td>Subject: naturally irresistible your corporate...</td>\n",
       "      <td>1</td>\n",
       "      <td>[system, at, interested, ordered, is, good, io...</td>\n",
       "    </tr>\n",
       "    <tr>\n",
       "      <th>1</th>\n",
       "      <td>Subject: the stock trading gunslinger  fanny i...</td>\n",
       "      <td>1</td>\n",
       "      <td>[superior, incredible, fanny, mcdougall, cloth...</td>\n",
       "    </tr>\n",
       "    <tr>\n",
       "      <th>2</th>\n",
       "      <td>Subject: unbelievable new homes made easy  im ...</td>\n",
       "      <td>1</td>\n",
       "      <td>[homes, fixed, -, that, complete, this, wantin...</td>\n",
       "    </tr>\n",
       "    <tr>\n",
       "      <th>3</th>\n",
       "      <td>Subject: 4 color printing special  request add...</td>\n",
       "      <td>1</td>\n",
       "      <td>[/, -, graphix, 91706, special, advertisement,...</td>\n",
       "    </tr>\n",
       "    <tr>\n",
       "      <th>4</th>\n",
       "      <td>Subject: do not have money , get software cds ...</td>\n",
       "      <td>1</td>\n",
       "      <td>[', with, by, it, finish, me, compatibility, o...</td>\n",
       "    </tr>\n",
       "    <tr>\n",
       "      <th>5</th>\n",
       "      <td>Subject: great nnews  hello , welcome to medzo...</td>\n",
       "      <td>1</td>\n",
       "      <td>[ntiaiity, introduce, -, leisure, hlpplng, ov,...</td>\n",
       "    </tr>\n",
       "    <tr>\n",
       "      <th>6</th>\n",
       "      <td>Subject: here ' s a hot play in motion  homela...</td>\n",
       "      <td>1</td>\n",
       "      <td>[why, advertisement, omit, term, o, toois, ban...</td>\n",
       "    </tr>\n",
       "    <tr>\n",
       "      <th>7</th>\n",
       "      <td>Subject: save your money buy getting this thin...</td>\n",
       "      <td>1</td>\n",
       "      <td>[with, getting, cannot, real, -, that, country...</td>\n",
       "    </tr>\n",
       "    <tr>\n",
       "      <th>8</th>\n",
       "      <td>Subject: undeliverable : home based business f...</td>\n",
       "      <td>1</td>\n",
       "      <td>[telecom, s, fjt, 75, sun, is, :, unknown, mtp...</td>\n",
       "    </tr>\n",
       "    <tr>\n",
       "      <th>9</th>\n",
       "      <td>Subject: save your money buy getting this thin...</td>\n",
       "      <td>1</td>\n",
       "      <td>[with, getting, cannot, real, -, that, lasts, ...</td>\n",
       "    </tr>\n",
       "  </tbody>\n",
       "</table>\n",
       "</div>"
      ],
      "text/plain": [
       "                                                text  spam  \\\n",
       "0  Subject: naturally irresistible your corporate...     1   \n",
       "1  Subject: the stock trading gunslinger  fanny i...     1   \n",
       "2  Subject: unbelievable new homes made easy  im ...     1   \n",
       "3  Subject: 4 color printing special  request add...     1   \n",
       "4  Subject: do not have money , get software cds ...     1   \n",
       "5  Subject: great nnews  hello , welcome to medzo...     1   \n",
       "6  Subject: here ' s a hot play in motion  homela...     1   \n",
       "7  Subject: save your money buy getting this thin...     1   \n",
       "8  Subject: undeliverable : home based business f...     1   \n",
       "9  Subject: save your money buy getting this thin...     1   \n",
       "\n",
       "                                               words  \n",
       "0  [system, at, interested, ordered, is, good, io...  \n",
       "1  [superior, incredible, fanny, mcdougall, cloth...  \n",
       "2  [homes, fixed, -, that, complete, this, wantin...  \n",
       "3  [/, -, graphix, 91706, special, advertisement,...  \n",
       "4  [', with, by, it, finish, me, compatibility, o...  \n",
       "5  [ntiaiity, introduce, -, leisure, hlpplng, ov,...  \n",
       "6  [why, advertisement, omit, term, o, toois, ban...  \n",
       "7  [with, getting, cannot, real, -, that, country...  \n",
       "8  [telecom, s, fjt, 75, sun, is, :, unknown, mtp...  \n",
       "9  [with, getting, cannot, real, -, that, lasts, ...  "
      ]
     },
     "execution_count": 4,
     "metadata": {},
     "output_type": "execute_result"
    }
   ],
   "source": [
    "# apply process_email function to 'text' column and create 'words' column\n",
    "emails['words'] = emails['text'].apply(process_email)\n",
    "emails[0:10]"
   ]
  },
  {
   "attachments": {},
   "cell_type": "markdown",
   "id": "921af123",
   "metadata": {
    "papermill": {
     "duration": 0.00863,
     "end_time": "2023-06-08T00:44:25.604086",
     "exception": false,
     "start_time": "2023-06-08T00:44:25.595456",
     "status": "completed"
    },
    "tags": []
   },
   "source": [
    "#### Testing to check if Data Cleaning and Processing are done correctly"
   ]
  },
  {
   "cell_type": "code",
   "execution_count": 5,
   "id": "5a1ca4ea",
   "metadata": {
    "execution": {
     "iopub.execute_input": "2023-06-08T00:44:25.624775Z",
     "iopub.status.busy": "2023-06-08T00:44:25.623943Z",
     "iopub.status.idle": "2023-06-08T00:44:25.631354Z",
     "shell.execute_reply": "2023-06-08T00:44:25.629933Z"
    },
    "papermill": {
     "duration": 0.020121,
     "end_time": "2023-06-08T00:44:25.633675",
     "exception": false,
     "start_time": "2023-06-08T00:44:25.613554",
     "status": "completed"
    },
    "tags": []
   },
   "outputs": [
    {
     "name": "stdout",
     "output_type": "stream",
     "text": [
      "Subject: naturally irresistible your corporate identity  lt is really hard to recollect a company : the  market is full of suqgestions and the information isoverwhelminq ; but a good  catchy logo , stylish statlonery and outstanding website  will make the task much easier .  we do not promise that havinq ordered a iogo your  company will automaticaily become a world ieader : it isguite ciear that  without good products , effective business organization and practicable aim it  will be hotat nowadays market ; but we do promise that your marketing efforts  will become much more effective . here is the list of clear  benefits : creativeness : hand - made , original logos , specially done  to reflect your distinctive company image . convenience : logo and stationery  are provided in all formats ; easy - to - use content management system letsyou  change your website content and even its structure . promptness : you  will see logo drafts within three business days . affordability : your  marketing break - through shouldn ' t make gaps in your budget . 100 % satisfaction  guaranteed : we provide unlimited amount of changes with no extra fees for you to  be surethat you will love the result of this collaboration . have a look at our  portfolio _ _ _ _ _ _ _ _ _ _ _ _ _ _ _ _ _ _ _ _ _ _ _ _ _ _ _ _ _ _ _ _ _ _ _ _ _ _ _ _ _ _ _ _ _ _ _ _ _ _ _ _ not interested . . . _ _ _ _ _ _ _ _ _ _ _ _ _ _ _ _ _ _ _ _ _ _ _ _ _ _ _ _ _ _ _ _ _ _ _ _ _ _ _ _ _ _ _ _ _ _ _ _ _ _ _ _\n",
      "['system', 'at', 'interested', 'ordered', 'is', 'good', 'iogo', ':', 'products', 'easy', 'break', 'organization', 'gaps', 'collaboration', 'you', 'look', 'portfolio', 'here', 'convenience', 'world', 'made', 'not', 'promptness', 'satisfaction', 'be', 'surethat', 'logos', 'subject:', 'extra', 'stylish', 'management', 'budget', 'stationery', 'its', 'information', 'this', 'recollect', 'original', 'through', 'all', 'guaranteed', 'website', 'ciear', 'suqgestions', ';', 'more', ',', 'in', 'easier', 'without', 'logo', 'identity', 'marketing', 't', 'we', 'market', 'efforts', 'shouldn', 'of', '.', 'automaticaily', 'amount', 'reflect', \"'\", '100', 'full', 'it', 'benefits', 'our', 'much', 'formats', 'havinq', 'are', 'isguite', 'three', 'hard', 'provide', 'love', 'hand', 'have', 'catchy', 'aim', 'change', 'really', 'promise', 'days', 'content', 'for', 'the', 'practicable', 'see', 'outstanding', 'fees', 'no', 'list', 'with', '-', 'that', 'business', 'drafts', 'even', 'affordability', 'lt', 'specially', 'provided', 'unlimited', 'task', 'your', 'done', 'do', 'a', 'naturally', 'clear', 'within', 'nowadays', 'changes', 'become', 'will', 'ieader', 'letsyou', '_', 'isoverwhelminq', '%', 'statlonery', 'image', 'company', 'distinctive', 'result', 'structure', 'to', 'effective', 'irresistible', 'creativeness', 'and', 'but', 'use', 'make', 'corporate', 'hotat']\n",
      "\n",
      "Raw_data_line1:  1484 words\n",
      "Cleaned_data_line1:  139 words\n"
     ]
    }
   ],
   "source": [
    "raw_data_line1 = emails['text'][0]\n",
    "print(raw_data_line1)\n",
    "\n",
    "cleaned_data_line1 = emails['words'][0]\n",
    "print(cleaned_data_line1)\n",
    "\n",
    "num_words1a = len(emails['text'][0])\n",
    "num_words1b = len(emails['words'][0])\n",
    "print()\n",
    "print(\"Raw_data_line1: \", num_words1a, \"words\") # 1484\n",
    "print(\"Cleaned_data_line1: \", num_words1b, \"words\") # 139"
   ]
  },
  {
   "cell_type": "code",
   "execution_count": 6,
   "id": "e1317752",
   "metadata": {
    "execution": {
     "iopub.execute_input": "2023-06-08T00:44:25.654534Z",
     "iopub.status.busy": "2023-06-08T00:44:25.654162Z",
     "iopub.status.idle": "2023-06-08T00:44:25.662814Z",
     "shell.execute_reply": "2023-06-08T00:44:25.661485Z"
    },
    "papermill": {
     "duration": 0.021779,
     "end_time": "2023-06-08T00:44:25.664833",
     "exception": false,
     "start_time": "2023-06-08T00:44:25.643054",
     "status": "completed"
    },
    "tags": []
   },
   "outputs": [
    {
     "name": "stdout",
     "output_type": "stream",
     "text": [
      "Number of emails:  5728\n",
      "Number of spam emails:  1368\n",
      "\n",
      "Probability of spam: 0.2388268156424581\n"
     ]
    }
   ],
   "source": [
    "num_emails = len(emails) # count the number of emails\n",
    "#num_spam = sum(emails['spam']) # sum function takes spam column and get total\n",
    "num_spam = emails['spam'][emails['spam']==1].count()\n",
    "\n",
    "print(\"Number of emails: \", num_emails) # 5728\n",
    "print(\"Number of spam emails: \", num_spam) # 1368\n",
    "print()\n",
    "\n",
    "# Calculating the prior probability that an email is spam\n",
    "print(\"Probability of spam:\", num_spam/num_emails) # 0.23882..."
   ]
  },
  {
   "attachments": {},
   "cell_type": "markdown",
   "id": "8c407be5",
   "metadata": {
    "papermill": {
     "duration": 0.008892,
     "end_time": "2023-06-08T00:44:25.683113",
     "exception": false,
     "start_time": "2023-06-08T00:44:25.674221",
     "status": "completed"
    },
    "tags": []
   },
   "source": [
    "## Step 2: Calculate the priors"
   ]
  },
  {
   "cell_type": "code",
   "execution_count": 7,
   "id": "2573c103",
   "metadata": {
    "execution": {
     "iopub.execute_input": "2023-06-08T00:44:25.703838Z",
     "iopub.status.busy": "2023-06-08T00:44:25.703153Z",
     "iopub.status.idle": "2023-06-08T00:44:25.717567Z",
     "shell.execute_reply": "2023-06-08T00:44:25.716081Z"
    },
    "papermill": {
     "duration": 0.027765,
     "end_time": "2023-06-08T00:44:25.720219",
     "exception": false,
     "start_time": "2023-06-08T00:44:25.692454",
     "status": "completed"
    },
    "tags": []
   },
   "outputs": [
    {
     "name": "stdout",
     "output_type": "stream",
     "text": [
      "0    4360\n",
      "1    1368\n",
      "Name: spam, dtype: int64\n",
      "Number of emails:  5728\n",
      "Number of spam emails:  1368\n",
      "Probability of spam:  0.2388268156424581\n"
     ]
    }
   ],
   "source": [
    "def calculate_frequency_average(data, label_value):\n",
    "    total = len(data)\n",
    "    num_label = data[data == label_value].count()\n",
    "    frequency = num_label / total\n",
    "    return frequency\n",
    "\n",
    "label_spam = 1\n",
    "label_ham = 0\n",
    "\n",
    "# meta data\n",
    "num_emails = len(emails)\n",
    "counts_label = emails['spam'].value_counts()\n",
    "num_spam = counts_label[label_spam]\n",
    "print(counts_label)\n",
    "\n",
    "print(\"Number of emails: \", num_emails)\n",
    "print(\"Number of spam emails: \", num_spam)\n",
    "\n",
    "# calculating the prior probability an email is spam\n",
    "dict_priors = calculate_frequency_average(emails['spam'], label_spam)\n",
    "# dict_priors = num_spam/num_emails\n",
    "print(\"Probability of spam: \", dict_priors)\n"
   ]
  },
  {
   "attachments": {},
   "cell_type": "markdown",
   "id": "b155f721",
   "metadata": {
    "papermill": {
     "duration": 0.008932,
     "end_time": "2023-06-08T00:44:25.738546",
     "exception": false,
     "start_time": "2023-06-08T00:44:25.729614",
     "status": "completed"
    },
    "tags": []
   },
   "source": [
    "## Step 3 Training the Model\n",
    "\n",
    "Now, it will calculate word frequencies based on the whole text, then train the model by calculating the frequencies for each word in each label."
   ]
  },
  {
   "cell_type": "code",
   "execution_count": 8,
   "id": "bf1967d4",
   "metadata": {
    "execution": {
     "iopub.execute_input": "2023-06-08T00:44:25.759056Z",
     "iopub.status.busy": "2023-06-08T00:44:25.758651Z",
     "iopub.status.idle": "2023-06-08T00:44:25.764641Z",
     "shell.execute_reply": "2023-06-08T00:44:25.763373Z"
    },
    "papermill": {
     "duration": 0.018604,
     "end_time": "2023-06-08T00:44:25.766617",
     "exception": false,
     "start_time": "2023-06-08T00:44:25.748013",
     "status": "completed"
    },
    "tags": []
   },
   "outputs": [],
   "source": [
    "def construct_frequency_dict_from_series(data_series):\n",
    "    frequency_dict = {}\n",
    "    for text in data_series:\n",
    "        if isinstance(text, list):\n",
    "            for word in text:\n",
    "                if word in frequency_dict:\n",
    "                    frequency_dict[word] += 1\n",
    "                else:\n",
    "                    frequency_dict[word] = 1\n",
    "    return frequency_dict"
   ]
  },
  {
   "cell_type": "code",
   "execution_count": 9,
   "id": "e6cc7cf8",
   "metadata": {
    "execution": {
     "iopub.execute_input": "2023-06-08T00:44:25.787560Z",
     "iopub.status.busy": "2023-06-08T00:44:25.786775Z",
     "iopub.status.idle": "2023-06-08T00:44:25.792203Z",
     "shell.execute_reply": "2023-06-08T00:44:25.791273Z"
    },
    "papermill": {
     "duration": 0.018452,
     "end_time": "2023-06-08T00:44:25.794452",
     "exception": false,
     "start_time": "2023-06-08T00:44:25.776000",
     "status": "completed"
    },
    "tags": []
   },
   "outputs": [],
   "source": [
    "def calculate_labeled_frequencies(frequency_dict,emails): \n",
    "   labeled_frequencies = {}\n",
    "   unique_labels = emails['spam'].unique()\n",
    "   for label in unique_labels:\n",
    "       subset = emails[emails['spam'] == label]\n",
    "       label_frequency_dict = construct_frequency_dict_from_series(subset['words'])\n",
    "       labeled_frequencies[label] = label_frequency_dict\n",
    "   return labeled_frequencies"
   ]
  },
  {
   "cell_type": "code",
   "execution_count": 10,
   "id": "cc39692b",
   "metadata": {
    "execution": {
     "iopub.execute_input": "2023-06-08T00:44:25.815001Z",
     "iopub.status.busy": "2023-06-08T00:44:25.814569Z",
     "iopub.status.idle": "2023-06-08T00:44:26.027401Z",
     "shell.execute_reply": "2023-06-08T00:44:26.026143Z"
    },
    "papermill": {
     "duration": 0.22708,
     "end_time": "2023-06-08T00:44:26.030984",
     "exception": false,
     "start_time": "2023-06-08T00:44:25.803904",
     "status": "completed"
    },
    "tags": []
   },
   "outputs": [
    {
     "name": "stdout",
     "output_type": "stream",
     "text": [
      "8\n",
      "38\n",
      "64\n"
     ]
    }
   ],
   "source": [
    "dict_frequencies_whole_text = construct_frequency_dict_from_series(emails['text'])\n",
    "dict_model = calculate_labeled_frequencies(dict_frequencies_whole_text, emails)\n",
    "\n",
    "print(dict_model[1].get('lottery', 0))\n",
    "print(dict_model[1].get('sale', 0))\n",
    "print(dict_model[1].get('already', 0))"
   ]
  },
  {
   "cell_type": "code",
   "execution_count": 16,
   "id": "39defe47",
   "metadata": {
    "execution": {
     "iopub.execute_input": "2023-06-08T00:44:26.051403Z",
     "iopub.status.busy": "2023-06-08T00:44:26.051014Z",
     "iopub.status.idle": "2023-06-08T00:44:26.058057Z",
     "shell.execute_reply": "2023-06-08T00:44:26.056926Z"
    },
    "papermill": {
     "duration": 0.019762,
     "end_time": "2023-06-08T00:44:26.060249",
     "exception": false,
     "start_time": "2023-06-08T00:44:26.040487",
     "status": "completed"
    },
    "tags": []
   },
   "outputs": [
    {
     "name": "stdout",
     "output_type": "stream",
     "text": [
      "Frequencies for 'lottery': {1: 8, 0: 0}\n",
      "Frequencies for 'sale': {1: 38, 0: 41}\n",
      "Frequencies for 'already': {1: 64, 0: 317}\n",
      "Frequencies for 'buy': {1: 119, 0: 131}\n",
      "Frequencies for 'free': {1: 239, 0: 442}\n",
      "Frequencies for 'cheap': {1: 48, 0: 13}\n"
     ]
    }
   ],
   "source": [
    "words_to_check = ['lottery', 'sale', 'already', 'buy', 'free', 'cheap']\n",
    "for word in words_to_check:\n",
    "    word_frequencies = {}\n",
    "    for label, frequencies in dict_model.items():\n",
    "        if word in frequencies:\n",
    "            word_frequencies[label] = frequencies[word]\n",
    "        else:\n",
    "            word_frequencies[label] = 0\n",
    "    print(f\"Frequencies for '{word}': {word_frequencies}\") # 1 = spam 0 = ham"
   ]
  },
  {
   "attachments": {},
   "cell_type": "markdown",
   "id": "2a40c252",
   "metadata": {
    "papermill": {
     "duration": 0.012106,
     "end_time": "2023-06-08T00:44:26.116803",
     "exception": false,
     "start_time": "2023-06-08T00:44:26.104697",
     "status": "completed"
    },
    "tags": []
   },
   "source": [
    "#### Check dict_model"
   ]
  },
  {
   "cell_type": "code",
   "execution_count": 17,
   "id": "a8e4311d",
   "metadata": {
    "execution": {
     "iopub.execute_input": "2023-06-08T00:44:26.142540Z",
     "iopub.status.busy": "2023-06-08T00:44:26.141729Z",
     "iopub.status.idle": "2023-06-08T00:44:26.147669Z",
     "shell.execute_reply": "2023-06-08T00:44:26.146647Z"
    },
    "papermill": {
     "duration": 0.019835,
     "end_time": "2023-06-08T00:44:26.150106",
     "exception": false,
     "start_time": "2023-06-08T00:44:26.130271",
     "status": "completed"
    },
    "tags": []
   },
   "outputs": [
    {
     "name": "stdout",
     "output_type": "stream",
     "text": [
      "dict_keys([1, 0])\n"
     ]
    }
   ],
   "source": [
    "#print(dict_model)\n",
    "print(dict_model.keys())"
   ]
  },
  {
   "cell_type": "code",
   "execution_count": 21,
   "id": "60637560",
   "metadata": {
    "execution": {
     "iopub.execute_input": "2023-06-08T00:44:26.178925Z",
     "iopub.status.busy": "2023-06-08T00:44:26.178155Z",
     "iopub.status.idle": "2023-06-08T00:44:26.213307Z",
     "shell.execute_reply": "2023-06-08T00:44:26.211968Z"
    },
    "papermill": {
     "duration": 0.085939,
     "end_time": "2023-06-08T00:44:26.250105",
     "exception": false,
     "start_time": "2023-06-08T00:44:26.164166",
     "status": "completed"
    },
    "tags": []
   },
   "outputs": [],
   "source": [
    "#print(dict_model.values())"
   ]
  },
  {
   "attachments": {},
   "cell_type": "markdown",
   "id": "1544ab39",
   "metadata": {
    "papermill": {
     "duration": 0.016243,
     "end_time": "2023-06-08T00:44:26.282794",
     "exception": false,
     "start_time": "2023-06-08T00:44:26.266551",
     "status": "completed"
    },
    "tags": []
   },
   "source": [
    "## Step 4: Using the model to make predictions\n",
    "\n",
    "- To write a dictionary, and in this dictionary record every word, and its pair of occurrences in spam and ham"
   ]
  },
  {
   "cell_type": "code",
   "execution_count": 22,
   "id": "56014702",
   "metadata": {
    "execution": {
     "iopub.execute_input": "2023-06-08T00:44:26.317908Z",
     "iopub.status.busy": "2023-06-08T00:44:26.317191Z",
     "iopub.status.idle": "2023-06-08T00:44:30.217624Z",
     "shell.execute_reply": "2023-06-08T00:44:30.216289Z"
    },
    "papermill": {
     "duration": 3.920775,
     "end_time": "2023-06-08T00:44:30.220280",
     "exception": false,
     "start_time": "2023-06-08T00:44:26.299505",
     "status": "completed"
    },
    "tags": []
   },
   "outputs": [],
   "source": [
    "model = {}\n",
    "\n",
    "# Training process\n",
    "for index, email in emails.iterrows():\n",
    "    for word in email['words']:\n",
    "        if word not in model:\n",
    "            model[word] = {'spam': 1, 'ham': 1}\n",
    "        if word in model:\n",
    "            if email['spam']:\n",
    "                model[word]['spam'] += 1\n",
    "            else:\n",
    "                model[word]['ham'] += 1\n"
   ]
  },
  {
   "cell_type": "code",
   "execution_count": 23,
   "id": "fe272422",
   "metadata": {
    "execution": {
     "iopub.execute_input": "2023-06-08T00:44:30.256692Z",
     "iopub.status.busy": "2023-06-08T00:44:30.256287Z",
     "iopub.status.idle": "2023-06-08T00:44:30.263214Z",
     "shell.execute_reply": "2023-06-08T00:44:30.262037Z"
    },
    "papermill": {
     "duration": 0.028045,
     "end_time": "2023-06-08T00:44:30.265301",
     "exception": false,
     "start_time": "2023-06-08T00:44:30.237256",
     "status": "completed"
    },
    "tags": []
   },
   "outputs": [
    {
     "data": {
      "text/plain": [
       "{'spam': 9, 'ham': 1}"
      ]
     },
     "execution_count": 23,
     "metadata": {},
     "output_type": "execute_result"
    }
   ],
   "source": [
    "model['lottery'] # probably spam 9 out of 10"
   ]
  },
  {
   "cell_type": "code",
   "execution_count": 24,
   "id": "8982df2b",
   "metadata": {
    "execution": {
     "iopub.execute_input": "2023-06-08T00:44:30.300704Z",
     "iopub.status.busy": "2023-06-08T00:44:30.300022Z",
     "iopub.status.idle": "2023-06-08T00:44:30.306035Z",
     "shell.execute_reply": "2023-06-08T00:44:30.305116Z"
    },
    "papermill": {
     "duration": 0.025962,
     "end_time": "2023-06-08T00:44:30.308045",
     "exception": false,
     "start_time": "2023-06-08T00:44:30.282083",
     "status": "completed"
    },
    "tags": []
   },
   "outputs": [
    {
     "data": {
      "text/plain": [
       "{'spam': 39, 'ham': 42}"
      ]
     },
     "execution_count": 24,
     "metadata": {},
     "output_type": "execute_result"
    }
   ],
   "source": [
    "model['sale'] # boundary between ham and spam"
   ]
  },
  {
   "cell_type": "code",
   "execution_count": 25,
   "id": "f3e1df80",
   "metadata": {
    "execution": {
     "iopub.execute_input": "2023-06-08T00:44:30.342644Z",
     "iopub.status.busy": "2023-06-08T00:44:30.341995Z",
     "iopub.status.idle": "2023-06-08T00:44:30.348733Z",
     "shell.execute_reply": "2023-06-08T00:44:30.347644Z"
    },
    "papermill": {
     "duration": 0.026871,
     "end_time": "2023-06-08T00:44:30.351055",
     "exception": false,
     "start_time": "2023-06-08T00:44:30.324184",
     "status": "completed"
    },
    "tags": []
   },
   "outputs": [
    {
     "data": {
      "text/plain": [
       "{'spam': 8, 'ham': 28}"
      ]
     },
     "execution_count": 25,
     "metadata": {},
     "output_type": "execute_result"
    }
   ],
   "source": [
    "model['subscribe'] # not likely a spam"
   ]
  },
  {
   "cell_type": "code",
   "execution_count": 26,
   "id": "c5ed426c",
   "metadata": {
    "execution": {
     "iopub.execute_input": "2023-06-08T00:44:30.385736Z",
     "iopub.status.busy": "2023-06-08T00:44:30.385326Z",
     "iopub.status.idle": "2023-06-08T00:44:30.391875Z",
     "shell.execute_reply": "2023-06-08T00:44:30.390758Z"
    },
    "papermill": {
     "duration": 0.02662,
     "end_time": "2023-06-08T00:44:30.394053",
     "exception": false,
     "start_time": "2023-06-08T00:44:30.367433",
     "status": "completed"
    },
    "tags": []
   },
   "outputs": [
    {
     "data": {
      "text/plain": [
       "{'spam': 65, 'ham': 318}"
      ]
     },
     "execution_count": 26,
     "metadata": {},
     "output_type": "execute_result"
    }
   ],
   "source": [
    "model['already'] # most likely not a spam"
   ]
  },
  {
   "cell_type": "code",
   "execution_count": 27,
   "id": "93eb74ec",
   "metadata": {
    "execution": {
     "iopub.execute_input": "2023-06-08T00:44:30.430008Z",
     "iopub.status.busy": "2023-06-08T00:44:30.429547Z",
     "iopub.status.idle": "2023-06-08T00:44:30.436286Z",
     "shell.execute_reply": "2023-06-08T00:44:30.435094Z"
    },
    "papermill": {
     "duration": 0.027541,
     "end_time": "2023-06-08T00:44:30.438804",
     "exception": false,
     "start_time": "2023-06-08T00:44:30.411263",
     "status": "completed"
    },
    "tags": []
   },
   "outputs": [],
   "source": [
    "def predict_bayes(word):\n",
    "    word = word.lower()\n",
    "    num_spam_with_word = model[word]['spam']\n",
    "    num_ham_with_word = model[word]['ham']\n",
    "    return 1.0 * num_spam_with_word / (num_spam_with_word + num_ham_with_word)"
   ]
  },
  {
   "cell_type": "code",
   "execution_count": 28,
   "id": "bf04bdbc",
   "metadata": {
    "execution": {
     "iopub.execute_input": "2023-06-08T00:44:30.474159Z",
     "iopub.status.busy": "2023-06-08T00:44:30.473750Z",
     "iopub.status.idle": "2023-06-08T00:44:30.480336Z",
     "shell.execute_reply": "2023-06-08T00:44:30.479234Z"
    },
    "papermill": {
     "duration": 0.026794,
     "end_time": "2023-06-08T00:44:30.482519",
     "exception": false,
     "start_time": "2023-06-08T00:44:30.455725",
     "status": "completed"
    },
    "tags": []
   },
   "outputs": [
    {
     "data": {
      "text/plain": [
       "0.9"
      ]
     },
     "execution_count": 28,
     "metadata": {},
     "output_type": "execute_result"
    }
   ],
   "source": [
    "predict_bayes('lottery')"
   ]
  },
  {
   "cell_type": "code",
   "execution_count": 29,
   "id": "51f7be92",
   "metadata": {
    "execution": {
     "iopub.execute_input": "2023-06-08T00:44:30.518015Z",
     "iopub.status.busy": "2023-06-08T00:44:30.517340Z",
     "iopub.status.idle": "2023-06-08T00:44:30.523795Z",
     "shell.execute_reply": "2023-06-08T00:44:30.522561Z"
    },
    "papermill": {
     "duration": 0.026865,
     "end_time": "2023-06-08T00:44:30.526046",
     "exception": false,
     "start_time": "2023-06-08T00:44:30.499181",
     "status": "completed"
    },
    "tags": []
   },
   "outputs": [
    {
     "data": {
      "text/plain": [
       "0.48148148148148145"
      ]
     },
     "execution_count": 29,
     "metadata": {},
     "output_type": "execute_result"
    }
   ],
   "source": [
    "predict_bayes('sale')"
   ]
  },
  {
   "cell_type": "code",
   "execution_count": 30,
   "id": "8bae8eb8",
   "metadata": {
    "execution": {
     "iopub.execute_input": "2023-06-08T00:44:30.561467Z",
     "iopub.status.busy": "2023-06-08T00:44:30.560965Z",
     "iopub.status.idle": "2023-06-08T00:44:30.567664Z",
     "shell.execute_reply": "2023-06-08T00:44:30.566465Z"
    },
    "papermill": {
     "duration": 0.027202,
     "end_time": "2023-06-08T00:44:30.570089",
     "exception": false,
     "start_time": "2023-06-08T00:44:30.542887",
     "status": "completed"
    },
    "tags": []
   },
   "outputs": [
    {
     "data": {
      "text/plain": [
       "0.16971279373368145"
      ]
     },
     "execution_count": 30,
     "metadata": {},
     "output_type": "execute_result"
    }
   ],
   "source": [
    "predict_bayes('already')"
   ]
  },
  {
   "attachments": {},
   "cell_type": "markdown",
   "id": "b2671abe",
   "metadata": {
    "papermill": {
     "duration": 0.016571,
     "end_time": "2023-06-08T00:44:30.603602",
     "exception": false,
     "start_time": "2023-06-08T00:44:30.587031",
     "status": "completed"
    },
    "tags": []
   },
   "source": [
    "## Step 5: Predict Naive Bayes Model"
   ]
  },
  {
   "cell_type": "code",
   "execution_count": 31,
   "id": "aa174aa7",
   "metadata": {
    "execution": {
     "iopub.execute_input": "2023-06-08T00:44:30.640319Z",
     "iopub.status.busy": "2023-06-08T00:44:30.639929Z",
     "iopub.status.idle": "2023-06-08T00:44:30.647732Z",
     "shell.execute_reply": "2023-06-08T00:44:30.646514Z"
    },
    "papermill": {
     "duration": 0.02947,
     "end_time": "2023-06-08T00:44:30.650375",
     "exception": false,
     "start_time": "2023-06-08T00:44:30.620905",
     "status": "completed"
    },
    "tags": []
   },
   "outputs": [],
   "source": [
    "def predict_naive_bayes(email):\n",
    "    total = len(emails)\n",
    "    num_spam = sum(emails['spam'])\n",
    "    num_ham = total - num_spam\n",
    "    email = email.lower()\n",
    "    words = set(email.split())\n",
    "    spams = [1.0]\n",
    "    hams = [1.0]\n",
    "    for word in words:\n",
    "        if word in model:\n",
    "            spams.append(model[word]['spam']/num_spam * total)\n",
    "            hams.append(model[word]['ham']/num_ham * total)\n",
    "    prod_spams = np.compat.long(np.prod(spams) * num_spam)\n",
    "    prod_hams = np.compat.long(np.prod(hams) * num_ham)\n",
    "    return prod_spams/(prod_spams + prod_hams)"
   ]
  },
  {
   "cell_type": "code",
   "execution_count": 32,
   "id": "7064ff84",
   "metadata": {
    "execution": {
     "iopub.execute_input": "2023-06-08T00:44:30.686259Z",
     "iopub.status.busy": "2023-06-08T00:44:30.685867Z",
     "iopub.status.idle": "2023-06-08T00:44:30.693237Z",
     "shell.execute_reply": "2023-06-08T00:44:30.692064Z"
    },
    "papermill": {
     "duration": 0.027899,
     "end_time": "2023-06-08T00:44:30.695466",
     "exception": false,
     "start_time": "2023-06-08T00:44:30.667567",
     "status": "completed"
    },
    "tags": []
   },
   "outputs": [
    {
     "data": {
      "text/plain": [
       "0.9638144992048691"
      ]
     },
     "execution_count": 32,
     "metadata": {},
     "output_type": "execute_result"
    }
   ],
   "source": [
    "predict_naive_bayes('lottery sale') # probably spam 96%"
   ]
  },
  {
   "cell_type": "code",
   "execution_count": 33,
   "id": "7c2dfbbb",
   "metadata": {
    "execution": {
     "iopub.execute_input": "2023-06-08T00:44:30.731969Z",
     "iopub.status.busy": "2023-06-08T00:44:30.731578Z",
     "iopub.status.idle": "2023-06-08T00:44:30.739067Z",
     "shell.execute_reply": "2023-06-08T00:44:30.737943Z"
    },
    "papermill": {
     "duration": 0.028227,
     "end_time": "2023-06-08T00:44:30.741335",
     "exception": false,
     "start_time": "2023-06-08T00:44:30.713108",
     "status": "completed"
    },
    "tags": []
   },
   "outputs": [
    {
     "data": {
      "text/plain": [
       "0.13743544730963977"
      ]
     },
     "execution_count": 33,
     "metadata": {},
     "output_type": "execute_result"
    }
   ],
   "source": [
    "predict_naive_bayes('Hi mom how are you?') # spam unlikely 14%"
   ]
  },
  {
   "cell_type": "code",
   "execution_count": 34,
   "id": "b0e97476",
   "metadata": {
    "execution": {
     "iopub.execute_input": "2023-06-08T00:44:30.778127Z",
     "iopub.status.busy": "2023-06-08T00:44:30.777713Z",
     "iopub.status.idle": "2023-06-08T00:44:30.784786Z",
     "shell.execute_reply": "2023-06-08T00:44:30.783491Z"
    },
    "papermill": {
     "duration": 0.028281,
     "end_time": "2023-06-08T00:44:30.787006",
     "exception": false,
     "start_time": "2023-06-08T00:44:30.758725",
     "status": "completed"
    },
    "tags": []
   },
   "outputs": [
    {
     "data": {
      "text/plain": [
       "0.9995234218677428"
      ]
     },
     "execution_count": 34,
     "metadata": {},
     "output_type": "execute_result"
    }
   ],
   "source": [
    "predict_naive_bayes('enter the lottery to win three million dollars') # probably spam 99%"
   ]
  },
  {
   "cell_type": "code",
   "execution_count": 35,
   "id": "f1e97303",
   "metadata": {
    "execution": {
     "iopub.execute_input": "2023-06-08T00:44:30.823438Z",
     "iopub.status.busy": "2023-06-08T00:44:30.823062Z",
     "iopub.status.idle": "2023-06-08T00:44:30.830383Z",
     "shell.execute_reply": "2023-06-08T00:44:30.829297Z"
    },
    "papermill": {
     "duration": 0.028381,
     "end_time": "2023-06-08T00:44:30.832688",
     "exception": false,
     "start_time": "2023-06-08T00:44:30.804307",
     "status": "completed"
    },
    "tags": []
   },
   "outputs": [
    {
     "data": {
      "text/plain": [
       "0.999973472265966"
      ]
     },
     "execution_count": 35,
     "metadata": {},
     "output_type": "execute_result"
    }
   ],
   "source": [
    "predict_naive_bayes('buy cheap lottery easy money now') # spam 99%"
   ]
  },
  {
   "cell_type": "code",
   "execution_count": 36,
   "id": "75b09c01",
   "metadata": {
    "execution": {
     "iopub.execute_input": "2023-06-08T00:44:30.870443Z",
     "iopub.status.busy": "2023-06-08T00:44:30.870070Z",
     "iopub.status.idle": "2023-06-08T00:44:30.880151Z",
     "shell.execute_reply": "2023-06-08T00:44:30.878931Z"
    },
    "papermill": {
     "duration": 0.032561,
     "end_time": "2023-06-08T00:44:30.882626",
     "exception": false,
     "start_time": "2023-06-08T00:44:30.850065",
     "status": "completed"
    },
    "tags": []
   },
   "outputs": [
    {
     "name": "stdout",
     "output_type": "stream",
     "text": [
      "Probability email is spam: 0.922827245754548\n",
      "Probability email is spam: 0.9341463637917197\n",
      "Probability email is spam: 0.15453530205676974\n",
      "Probability email is spam: 0.7408112065416577\n",
      "Probability email is spam: 0.0550578729994848\n"
     ]
    }
   ],
   "source": [
    "list_email1 = [\n",
    "    \"By joining, you've agreed to our Terms of Use and Privacy Statement.\",\n",
    "    \"Netflix will automatically continue your membership and charge the membership fee\",\n",
    "    \" to your payment method on a monthly basis until you cancel.\",\n",
    "    \"To cancel, go to Your Account and click on Cancel membership.\",\n",
    "    \"There are no refunds or credits for partial months.\"\n",
    "]\n",
    "\n",
    "# Calculate probability for each email in list_email1\n",
    "for email in list_email1:\n",
    "    probability_spam = predict_naive_bayes(email)\n",
    "    print(\"Probability email is spam:\", probability_spam)"
   ]
  },
  {
   "cell_type": "code",
   "execution_count": 37,
   "id": "e812870d",
   "metadata": {
    "execution": {
     "iopub.execute_input": "2023-06-08T00:44:30.920751Z",
     "iopub.status.busy": "2023-06-08T00:44:30.920079Z",
     "iopub.status.idle": "2023-06-08T00:44:30.929345Z",
     "shell.execute_reply": "2023-06-08T00:44:30.928126Z"
    },
    "papermill": {
     "duration": 0.031815,
     "end_time": "2023-06-08T00:44:30.932348",
     "exception": false,
     "start_time": "2023-06-08T00:44:30.900533",
     "status": "completed"
    },
    "tags": []
   },
   "outputs": [
    {
     "name": "stdout",
     "output_type": "stream",
     "text": [
      "Probability email is spam: 0.12542974139861737\n",
      "Probability email is spam: 0.00847912113320933\n",
      "Probability email is spam: 0.04468788165156035\n",
      "Probability email is spam: 0.1314133675366208\n",
      "Probability email is spam: 0.2388268156424581\n"
     ]
    }
   ],
   "source": [
    "# adding new words to the dictionary\n",
    "list_email2 = [\n",
    "    \"You can review the submission details using the link below, or\", \n",
    "    \"can reply to this comment by responding to this message.\",\n",
    "    \"When allowed, if you need to include an attachment,\",\n",
    "    \"please log in to Canvas and reply to the submission.\", \n",
    "    \"asdfghjkl\"\n",
    "]\n",
    "\n",
    "# Calculate probability for each email in list_email2\n",
    "for email in list_email2:\n",
    "    probability_spam = predict_naive_bayes(email)\n",
    "    print(\"Probability email is spam:\", probability_spam)\n"
   ]
  },
  {
   "attachments": {},
   "cell_type": "markdown",
   "id": "18d3ccf0",
   "metadata": {
    "papermill": {
     "duration": 0.016996,
     "end_time": "2023-06-08T00:44:30.966710",
     "exception": false,
     "start_time": "2023-06-08T00:44:30.949714",
     "status": "completed"
    },
    "tags": []
   },
   "source": [
    "## Step 6: Do the results make sense?"
   ]
  },
  {
   "cell_type": "code",
   "execution_count": 38,
   "id": "6763db0e",
   "metadata": {
    "execution": {
     "iopub.execute_input": "2023-06-08T00:44:31.004092Z",
     "iopub.status.busy": "2023-06-08T00:44:31.003659Z",
     "iopub.status.idle": "2023-06-08T00:44:31.012250Z",
     "shell.execute_reply": "2023-06-08T00:44:31.011474Z"
    },
    "papermill": {
     "duration": 0.030462,
     "end_time": "2023-06-08T00:44:31.014686",
     "exception": false,
     "start_time": "2023-06-08T00:44:30.984224",
     "status": "completed"
    },
    "tags": []
   },
   "outputs": [
    {
     "name": "stdout",
     "output_type": "stream",
     "text": [
      "privacy {'spam': 50, 'ham': 3}\n",
      "membership {'spam': 31, 'ham': 25}\n",
      "payment {'spam': 41, 'ham': 62}\n",
      "cancel {'spam': 8, 'ham': 38}\n",
      "refunds {'spam': 1, 'ham': 6}\n",
      "review {'spam': 47, 'ham': 422}\n",
      "comment {'spam': 2, 'ham': 40}\n",
      "attachment {'spam': 3, 'ham': 55}\n",
      "reply {'spam': 135, 'ham': 174}\n",
      "please {'spam': 350, 'ham': 2460}\n",
      "\n",
      "Bayes_Predict: privacy 0.9433962264150944\n",
      "Bayes_Predict: membership 0.5535714285714286\n",
      "Bayes_Predict: payment 0.39805825242718446\n",
      "Bayes_Predict: cancel 0.17391304347826086\n",
      "Bayes_Predict: refunds 0.14285714285714285\n",
      "Bayes_Predict: review 0.10021321961620469\n",
      "Bayes_Predict: comment 0.047619047619047616\n",
      "Bayes_Predict: attachment 0.05172413793103448\n",
      "Bayes_Predict: reply 0.4368932038834951\n",
      "Bayes_Predict: please 0.12455516014234876\n"
     ]
    }
   ],
   "source": [
    "print(\"privacy\", model['privacy'])\n",
    "print(\"membership\", model['membership'])\n",
    "print(\"payment\", model['payment'])\n",
    "print(\"cancel\", model['cancel'])\n",
    "print(\"refunds\", model['refunds'])\n",
    "print(\"review\", model['review'])\n",
    "print(\"comment\", model['comment'])\n",
    "print(\"attachment\", model['attachment'])\n",
    "print(\"reply\", model['reply'])\n",
    "print(\"please\", model['please'])\n",
    "print()\n",
    "print(\"Bayes_Predict: privacy\", predict_bayes('privacy'))\n",
    "print(\"Bayes_Predict: membership\", predict_bayes('membership'))\n",
    "print(\"Bayes_Predict: payment\", predict_bayes('payment'))\n",
    "print(\"Bayes_Predict: cancel\", predict_bayes('cancel'))\n",
    "print(\"Bayes_Predict: refunds\", predict_bayes('refunds'))\n",
    "print(\"Bayes_Predict: review\", predict_bayes('review'))\n",
    "print(\"Bayes_Predict: comment\", predict_bayes('comment'))\n",
    "print(\"Bayes_Predict: attachment\", predict_bayes('attachment'))\n",
    "print(\"Bayes_Predict: reply\", predict_bayes('reply'))\n",
    "print(\"Bayes_Predict: please\", predict_bayes('please'))"
   ]
  },
  {
   "attachments": {},
   "cell_type": "markdown",
   "id": "574626ea",
   "metadata": {
    "papermill": {
     "duration": 0.017258,
     "end_time": "2023-06-08T00:44:31.049485",
     "exception": false,
     "start_time": "2023-06-08T00:44:31.032227",
     "status": "completed"
    },
    "tags": []
   },
   "source": [
    "How accurate do you feel the naive Bayes model is at predicting spam vs. ham? What could improve the accuracy?\n",
    "\n",
    "Naive Bayes are effective in classifying text data but its accuracy may vary depending on the specific dataset and its characteristics. Some aspects that could potentially improve the accuracy:\n",
    "\n",
    "1. **Quality and Quantity of Training Data**: The performance of any machine learning model, including Naive Bayes, heavily relies on the quality and quantity of the training data. A larger and more diverse dataset that accurately represents the characteristics of both spam and ham emails can improve the model's accuracy.\n",
    "2. **Feature Selection and Engineering**: Choosing relevant features or creating new ones can significantly impact the model's accuracy. In the case of email classification, features such as word frequencies, presence of specific keywords, or structural information like email headers and metadata can be valuable in distinguishing between spam and ham.\n",
    "3. **Handling Imbalanced Data**: In spam classification tasks, the number of spam emails is often significantly smaller than the number of ham emails, resulting in imbalanced data. Techniques such as oversampling the minority class (spam) or under sampling the majority class (ham) can help address this issue and improve model accuracy.\n",
    "4. **Text Preprocessing**: Properly preprocessing the text data can enhance the accuracy of the Naive Bayes model. Techniques such as removing stop words, handling special characters, and performing lowercase normalization can help improve the quality of the text representation.\n",
    "5. **Model Selection and Evaluation**: Although Naive Bayes is a good choice for text classification, it's worth exploring other algorithms as well. Different models may exhibit varying accuracies depending on the specific dataset. Evaluating multiple algorithms and selecting the one that performs best on the given data can improve accuracy.\n",
    "6. **Hyperparameter Tuning**: Naive Bayes has few hyperparameters, such as smoothing parameters for handling zero probabilities. Tuning these hyperparameters using techniques like cross-validation can help optimize the model's performance.\n"
   ]
  }
 ],
 "metadata": {
  "kernelspec": {
   "display_name": "Python 3",
   "language": "python",
   "name": "python3"
  },
  "language_info": {
   "codemirror_mode": {
    "name": "ipython",
    "version": 3
   },
   "file_extension": ".py",
   "mimetype": "text/x-python",
   "name": "python",
   "nbconvert_exporter": "python",
   "pygments_lexer": "ipython3",
   "version": "3.11.2"
  },
  "papermill": {
   "default_parameters": {},
   "duration": 17.778055,
   "end_time": "2023-06-08T00:44:31.989517",
   "environment_variables": {},
   "exception": null,
   "input_path": "__notebook__.ipynb",
   "output_path": "__notebook__.ipynb",
   "parameters": {},
   "start_time": "2023-06-08T00:44:14.211462",
   "version": "2.4.0"
  }
 },
 "nbformat": 4,
 "nbformat_minor": 5
}
